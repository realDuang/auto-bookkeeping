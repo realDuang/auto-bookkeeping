{
 "cells": [
  {
   "cell_type": "code",
   "execution_count": null,
   "id": "9eb91db6-43b0-4bf8-8675-9ba0397561fc",
   "metadata": {
    "jupyter": {
     "outputs_hidden": false,
     "source_hidden": false
    },
    "nteract": {
     "transient": {
      "deleting": false
     }
    }
   },
   "outputs": [],
   "source": [
    "import os\n",
    "import sys\n",
    "\n",
    "sys.path.append(os.path.join(os.path.dirname(os.path.abspath('')), 'utils'))\n",
    "from utils.vector_db import BookkeepingVectorDB\n",
    "\n",
    "vector_db = BookkeepingVectorDB()"
   ]
  },
  {
   "cell_type": "markdown",
   "id": "e0fd5bdf",
   "metadata": {},
   "source": [
    "### 根据数据集 DB 训练 SVM 模型，并进行评估"
   ]
  },
  {
   "cell_type": "code",
   "execution_count": null,
   "id": "5b4b7e34-7ee0-4f35-b93f-d890a246b157",
   "metadata": {
    "jupyter": {
     "outputs_hidden": false,
     "source_hidden": false
    },
    "nteract": {
     "transient": {
      "deleting": false
     }
    }
   },
   "outputs": [],
   "source": [
    "import pandas as pd\n",
    "from sklearn.model_selection import train_test_split\n",
    "from sklearn.svm import SVC\n",
    "from sklearn.metrics import classification_report, accuracy_score\n",
    "\n",
    "# 获取向量数据库中的所有数据\n",
    "collection = vector_db.collection\n",
    "results = collection.get(include=[\"metadatas\", \"documents\", \"embeddings\"])\n",
    "documents = results[\"documents\"]\n",
    "categories = [metadata[\"type\"] for metadata in results[\"metadatas\"]]\n",
    "embeddings = results[\"embeddings\"]\n",
    "\n",
    "print(f\"从向量数据库中获取了 {len(documents)} 条记录\")\n",
    "\n",
    "# 将数据分为训练集和测试集\n",
    "X_train, X_test, y_train, y_test = train_test_split(\n",
    "    embeddings, categories, test_size=0.2, random_state=42, stratify=categories if len(set(categories)) > 1 else None\n",
    ")\n",
    "\n",
    "print(f\"训练集大小: {len(X_train)}\")\n",
    "print(f\"测试集大小: {len(X_test)}\")\n",
    "\n",
    "# 训练SVM模型\n",
    "print(\"开始训练SVM模型...\")\n",
    "svm_model = SVC(kernel='linear', probability=True)\n",
    "svm_model.fit(X_train, y_train)\n",
    "\n",
    "# 评估模型\n",
    "y_pred = svm_model.predict(X_test)\n",
    "accuracy = accuracy_score(y_test, y_pred)\n",
    "print(f\"模型准确率: {accuracy:.4f}\")\n",
    "\n",
    "# 打印分类报告\n",
    "print(\"\\n分类报告:\")\n",
    "print(classification_report(y_test, y_pred))"
   ]
  },
  {
   "cell_type": "markdown",
   "id": "c3bac96f",
   "metadata": {},
   "source": [
    "### 结合向量数据库和 SVM 模型进行混合预测"
   ]
  },
  {
   "cell_type": "code",
   "execution_count": null,
   "id": "5a49a688",
   "metadata": {},
   "outputs": [],
   "source": [
    "def hybrid_predict(merchant, product, threshold):\n",
    "    \"\"\"\n",
    "    结合向量数据库和SVM模型进行混合预测\n",
    "\n",
    "    Args:\n",
    "        merchant: 交易对方\n",
    "        product: 商品名称\n",
    "        threshold: 置信度阈值\n",
    "\n",
    "    Returns:\n",
    "        预测结果字典\n",
    "    \"\"\"\n",
    "    # 向量数据库预测\n",
    "    vector_prediction = vector_db.predict_category(merchant, product, threshold)\n",
    "\n",
    "    # 如果向量数据库预测置信度高，直接返回\n",
    "    if vector_prediction['confidence'] >= threshold:\n",
    "        return vector_prediction\n",
    "\n",
    "    # 否则使用SVM模型预测\n",
    "    # query = f\"{merchant}:{product}\"\n",
    "    # query_embedding = vector_db.embed_fn([query])[0]\n",
    "\n",
    "    # svm_prediction = svm_model.predict([query_embedding])[0]\n",
    "    # svm_proba = svm_model.predict_proba([query_embedding])\n",
    "    # svm_confidence = max(svm_proba[0])\n",
    "\n",
    "    # if svm_confidence >= threshold:\n",
    "    #     return {\n",
    "    #         \"category\": svm_prediction,\n",
    "    #         \"confidence\": svm_confidence,\n",
    "    #         \"source\": \"svm_model\"\n",
    "    #     }\n",
    "\n",
    "    # 如果置信度低于阈值，返回None作为类别\n",
    "    return {\n",
    "        \"category\": None,\n",
    "        \"confidence\": vector_prediction['confidence'],\n",
    "        \"source\": \"none\"\n",
    "    }"
   ]
  },
  {
   "cell_type": "code",
   "execution_count": null,
   "id": "5c995f8a",
   "metadata": {},
   "outputs": [],
   "source": [
    "import os\n",
    "import json\n",
    "\n",
    "repo_path = os.path.join(os.path.dirname(os.path.abspath('')), '..')\n",
    "config_path = os.path.join(repo_path, 'config', 'settings.json')\n",
    "with open(config_path, 'r', encoding='utf-8') as f:\n",
    "    config = json.load(f)\n",
    "\n",
    "output_path = config.get('output', {}).get('path')\n",
    "similarity_threshold = config.get('model', {}).get('similarity_threshold')\n",
    "\n",
    "merged_bill_path = os.path.join(repo_path, output_path, config.get('output', {}).get('merged_filename'))\n",
    "predict_file_path = os.path.join(repo_path, output_path, config.get('output', {}).get('processed_filename'))\n",
    "\n",
    "if os.path.exists(merged_bill_path):\n",
    "    print(f\"读取合并账单: {merged_bill_path}\")\n",
    "    merged_df = pd.read_csv(merged_bill_path)\n",
    "    print(f\"共读取 {len(merged_df)} 条记录\")\n",
    "\n",
    "    # 显示类型列的缺失情况\n",
    "    missing_type_count = merged_df['类型'].isna().sum()\n",
    "    print(f\"缺少分类信息的记录数: {missing_type_count}\")\n",
    "\n",
    "    # 使用混合预测填充缺失的类型\n",
    "    updated_count = 0\n",
    "    for idx, row in merged_df.iterrows():\n",
    "        if pd.isna(row['类型']):\n",
    "            merchant = str(row['交易对方']) if not pd.isna(row['交易对方']) else \"\"\n",
    "            product = str(row['商品名称']) if not pd.isna(row['商品名称']) else \"\"\n",
    "\n",
    "            # 使用混合预测\n",
    "            prediction = hybrid_predict(merchant, product, similarity_threshold)\n",
    "\n",
    "            # 只在预测结果不为None时更新类型\n",
    "            if prediction['category'] is not None:\n",
    "                merged_df.at[idx, '类型'] = prediction['category']\n",
    "                updated_count += 1\n",
    "\n",
    "            # 每处理100条记录打印一次进度\n",
    "            if updated_count % 100 == 0:\n",
    "                print(f\"已处理 {updated_count}/{missing_type_count} 条记录\")\n",
    "\n",
    "    print(f\"共更新了 {updated_count} 条记录的分类信息\")\n",
    "\n",
    "    # 保存更新后的数据\n",
    "    merged_df.to_csv(predict_file_path, index=False, encoding='utf-8')\n",
    "    print(f\"已将分类结果保存至: {predict_file_path}\")"
   ]
  }
 ],
 "metadata": {
  "dependencies": {
   "lakehouse": {
    "default_lakehouse": "a1aba9e3-8876-41ad-9c28-ac82f97a6edf",
    "default_lakehouse_name": "bookkeep_datasource",
    "default_lakehouse_workspace_id": "b771c1ab-1696-4f34-aac1-fe4c1b81d925",
    "known_lakehouses": [
     {
      "id": "a1aba9e3-8876-41ad-9c28-ac82f97a6edf"
     }
    ]
   }
  },
  "kernel_info": {
   "name": "synapse_pyspark"
  },
  "kernelspec": {
   "display_name": "Python 3",
   "language": "python",
   "name": "python3"
  },
  "language_info": {
   "codemirror_mode": {
    "name": "ipython",
    "version": 3
   },
   "file_extension": ".py",
   "mimetype": "text/x-python",
   "name": "python",
   "nbconvert_exporter": "python",
   "pygments_lexer": "ipython3",
   "version": "3.12.1"
  },
  "microsoft": {
   "language": "python"
  },
  "nteract": {
   "version": "nteract-front-end@1.0.0"
  },
  "spark_compute": {
   "compute_id": "/trident/default"
  },
  "synapse_widget": {
   "state": {
    "3a1ccbcd-8b12-4d1c-9b78-e59670557c2d": {
     "persist_state": {
      "view": {
       "chartOptions": {
        "aggregationType": "count",
        "binsNumber": 10,
        "categoryFieldKeys": [
         "0"
        ],
        "chartType": "bar",
        "isStacked": false,
        "seriesFieldKeys": [
         "0"
        ],
        "wordFrequency": "-1"
       },
       "tableOptions": {},
       "type": "details"
      }
     },
     "sync_state": {
      "isSummary": false,
      "language": "scala",
      "table": {
       "rows": [
        {
         "0": "3/21/2024, 10:06:28 AM",
         "1": "交易",
         "2": "2.89",
         "3": "支出",
         "4": "支付宝",
         "5": "国泰财产保险有限责任公司",
         "6": "保险承保-银行卡安全险（电诈版）|24010626114582110413|期数|202403|续期交易付款",
         "index": 1
        },
        {
         "0": "3/21/2024, 9:21:13 PM",
         "1": "餐饮",
         "2": "19.4",
         "3": "支出",
         "4": "支付宝",
         "5": "美团",
         "6": "美团订单-24032111100300001306080758498812",
         "index": 2
        },
        {
         "0": "3/22/2024, 12:42:26 PM",
         "1": "餐饮",
         "2": "100.0",
         "3": "支出",
         "4": "支付宝",
         "5": "麦金地北京分公司微软餐厅",
         "6": "餐厅(2480931-2480931)",
         "index": 3
        },
        {
         "0": "3/22/2024, 8:59:49 PM",
         "1": "交通",
         "2": "50.0",
         "3": "支出",
         "4": "支付宝",
         "5": "深圳市雪球科技有限公司",
         "6": "京津冀互联互通卡 充值",
         "index": 4
        },
        {
         "0": "3/23/2024, 12:21:13 PM",
         "1": "购物",
         "2": "24.9",
         "3": "支出",
         "4": "支付宝",
         "5": "美团",
         "6": "美团订单-24032311100300001306287459117812",
         "index": 5
        },
        {
         "0": "3/23/2024, 12:21:43 PM",
         "1": "购物",
         "2": "3.5",
         "3": "支出",
         "4": "支付宝",
         "5": "美团",
         "6": "美团订单-24032311100300001306287143185812",
         "index": 6
        },
        {
         "0": "3/23/2024, 6:18:48 PM",
         "1": "娱乐",
         "2": "230.0",
         "3": "收入",
         "4": "支付宝",
         "5": "t***3",
         "6": "出24号长荡湖音乐节普通票，有三张。230一张，有三张，三张",
         "index": 7
        },
        {
         "0": "3/23/2024, 6:44:38 PM",
         "1": "购物",
         "2": "38.8",
         "3": "支出",
         "4": "支付宝",
         "5": "美团",
         "6": "美团订单-24032311100300001306345609644812",
         "index": 8
        },
        {
         "0": "3/23/2024, 6:50:39 PM",
         "1": "购物",
         "2": "5.91",
         "3": "支出",
         "4": "支付宝",
         "5": "美团",
         "6": "美团订单-24032311100300001306345797757812",
         "index": 9
        },
        {
         "0": "3/24/2024, 12:21:08 PM",
         "1": "购物",
         "2": "3.44",
         "3": "支出",
         "4": "支付宝",
         "5": "美团",
         "6": "美团订单-24032411100300001306439780658812",
         "index": 10
        },
        {
         "0": "3/24/2024, 6:20:41 PM",
         "1": "购物",
         "2": "27.2",
         "3": "支出",
         "4": "支付宝",
         "5": "美团",
         "6": "美团订单-24032411100300001306499209862812",
         "index": 11
        },
        {
         "0": "3/25/2024, 12:42:58 PM",
         "1": "交通",
         "2": "7.1",
         "3": "支出",
         "4": "支付宝",
         "5": "哈啰出行",
         "6": "哈啰骑行卡",
         "index": 12
        },
        {
         "0": "3/25/2024, 12:46:59 PM",
         "1": "交通",
         "2": "0.0",
         "3": "支出",
         "4": "支付宝",
         "5": "哈啰出行",
         "6": "哈啰单车骑行",
         "index": 13
        },
        {
         "0": "3/26/2024, 12:33:59 PM",
         "1": "交通",
         "2": "0.0",
         "3": "支出",
         "4": "支付宝",
         "5": "哈啰出行",
         "6": "哈啰单车骑行",
         "index": 14
        },
        {
         "0": "3/26/2024, 7:48:39 PM",
         "1": "交通",
         "2": "0.0",
         "3": "支出",
         "4": "支付宝",
         "5": "哈啰出行",
         "6": "哈啰单车骑行",
         "index": 15
        },
        {
         "0": "3/26/2024, 8:45:33 PM",
         "1": "生活",
         "2": "15.0",
         "3": "支出",
         "4": "支付宝",
         "5": "优美快剪（会展）",
         "6": "壹剪乐",
         "index": 16
        },
        {
         "0": "3/26/2024, 9:05:29 PM",
         "1": "餐饮",
         "2": "12.0",
         "3": "支出",
         "4": "支付宝",
         "5": "小竹签麻辣烫",
         "6": "收钱码收款",
         "index": 17
        },
        {
         "0": "3/26/2024, 9:10:03 PM",
         "1": "交通",
         "2": "0.0",
         "3": "支出",
         "4": "支付宝",
         "5": "哈啰出行",
         "6": "哈啰单车骑行",
         "index": 18
        },
        {
         "0": "3/27/2024, 10:32:55 AM",
         "1": "交通",
         "2": "0.0",
         "3": "支出",
         "4": "支付宝",
         "5": "哈啰出行",
         "6": "哈啰单车骑行",
         "index": 19
        },
        {
         "0": "3/27/2024, 12:10:37 PM",
         "1": "餐饮",
         "2": "18.0",
         "3": "支出",
         "4": "支付宝",
         "5": "人人羊汤盖饭面（中关村店）",
         "6": "美团收银909700189006214651",
         "index": 20
        }
       ],
       "schema": [
        {
         "key": "0",
         "name": "交易时间",
         "type": "string"
        },
        {
         "key": "1",
         "name": "类型",
         "type": "string"
        },
        {
         "key": "2",
         "name": "金额(元)",
         "type": "double"
        },
        {
         "key": "3",
         "name": "收/支",
         "type": "string"
        },
        {
         "key": "4",
         "name": "支付方式",
         "type": "string"
        },
        {
         "key": "5",
         "name": "交易对方",
         "type": "string"
        },
        {
         "key": "6",
         "name": "商品名称",
         "type": "string"
        },
        {
         "key": "7",
         "name": "备注",
         "type": "double"
        }
       ],
       "truncated": false
      }
     },
     "type": "Synapse.DataFrame"
    }
   },
   "version": "0.1"
  },
  "widgets": {
   "application/vnd.jupyter.widget-state+json": {
    "state": {
     "00502f892e1f438288694f32b4740dfa": {
      "model_module": "@jupyter-widgets/controls",
      "model_module_version": "2.0.0",
      "model_name": "HTMLStyleModel",
      "state": {
       "description_width": "",
       "font_size": null,
       "text_color": null
      }
     },
     "0279807602bb49f996ec8e6f5390c32b": {
      "model_module": "@jupyter-widgets/base",
      "model_module_version": "2.0.0",
      "model_name": "LayoutModel",
      "state": {}
     },
     "03b7982d8c1a44a2866cd66ba68e3d05": {
      "model_module": "@jupyter-widgets/controls",
      "model_module_version": "2.0.0",
      "model_name": "HTMLModel",
      "state": {
       "layout": "IPY_MODEL_dce4ee8b917d4139a905766b1b8ab6fe",
       "style": "IPY_MODEL_bc10094a37cb4eac81fd3dd880add244",
       "value": "README.md: 100%"
      }
     },
     "04f25cd9fe7c40bd92584972b6afc5e3": {
      "model_module": "@jupyter-widgets/controls",
      "model_module_version": "2.0.0",
      "model_name": "HTMLModel",
      "state": {
       "layout": "IPY_MODEL_5018c302368b4e1aa9bd01c5fbb48302",
       "style": "IPY_MODEL_f8ab5202866e4ada8af4e97f9feabd5d",
       "value": "special_tokens_map.json: 100%"
      }
     },
     "068de70ff631488d84b16c661d6a60ae": {
      "model_module": "@jupyter-widgets/controls",
      "model_module_version": "2.0.0",
      "model_name": "HTMLModel",
      "state": {
       "layout": "IPY_MODEL_13839fcc10bf43fbaa653f7563c4884f",
       "style": "IPY_MODEL_73287b0df9cc4052a8cee3ff7adb91d8",
       "value": "modules.json: 100%"
      }
     },
     "06dbf2dd56dc496a97946b3d8f95b4e4": {
      "model_module": "@jupyter-widgets/base",
      "model_module_version": "2.0.0",
      "model_name": "LayoutModel",
      "state": {}
     },
     "077fc7a0099a426189c9b77be283b084": {
      "model_module": "@jupyter-widgets/controls",
      "model_module_version": "2.0.0",
      "model_name": "HTMLStyleModel",
      "state": {
       "description_width": "",
       "font_size": null,
       "text_color": null
      }
     },
     "0782bcbfba0d46f18b7284c6e6702e4a": {
      "model_module": "@jupyter-widgets/controls",
      "model_module_version": "2.0.0",
      "model_name": "FloatProgressModel",
      "state": {
       "bar_style": "success",
       "layout": "IPY_MODEL_7a4125ca67384bb3bc22e0ed8a896fba",
       "max": 439124,
       "style": "IPY_MODEL_99da3a08f5224358af0d0cb4ce6a064f",
       "value": 439124
      }
     },
     "07abeecb01eb4e3eaaf3c96481d7174c": {
      "model_module": "@jupyter-widgets/controls",
      "model_module_version": "2.0.0",
      "model_name": "HTMLModel",
      "state": {
       "layout": "IPY_MODEL_73cff8de455f4babbfcf7fe2d1463e0b",
       "style": "IPY_MODEL_2a0265eb2f494fa7a60a831260e475a8",
       "value": "tokenizer_config.json: 100%"
      }
     },
     "08295c4f985342afa8fb7d6461dd7386": {
      "model_module": "@jupyter-widgets/controls",
      "model_module_version": "2.0.0",
      "model_name": "HTMLModel",
      "state": {
       "layout": "IPY_MODEL_a62f315863cf40999c97011f018ea013",
       "style": "IPY_MODEL_b98c4cc2adaa4a969b60683c7b904a9d",
       "value": "README.md: 100%"
      }
     },
     "09795e04a9494468aac2081ad35e2c66": {
      "model_module": "@jupyter-widgets/controls",
      "model_module_version": "2.0.0",
      "model_name": "HTMLStyleModel",
      "state": {
       "description_width": "",
       "font_size": null,
       "text_color": null
      }
     },
     "0a2b7d77e62a491581c33d6a8513874b": {
      "model_module": "@jupyter-widgets/controls",
      "model_module_version": "2.0.0",
      "model_name": "ProgressStyleModel",
      "state": {
       "description_width": ""
      }
     },
     "0f8f7d1ee74342cfbcd2716ba6baddd3": {
      "model_module": "@jupyter-widgets/controls",
      "model_module_version": "2.0.0",
      "model_name": "ProgressStyleModel",
      "state": {
       "description_width": ""
      }
     },
     "1026a9c2019345abaa4d6e766eb1a6e3": {
      "model_module": "@jupyter-widgets/controls",
      "model_module_version": "2.0.0",
      "model_name": "HTMLModel",
      "state": {
       "layout": "IPY_MODEL_dcedf68383084609bf8660c11ec7bc0a",
       "style": "IPY_MODEL_09795e04a9494468aac2081ad35e2c66",
       "value": "config.json: 100%"
      }
     },
     "1026dea023fd486791f8bdc89a752c1b": {
      "model_module": "@jupyter-widgets/controls",
      "model_module_version": "2.0.0",
      "model_name": "HTMLModel",
      "state": {
       "layout": "IPY_MODEL_f6e0ee53dd8943adb6670401245e3015",
       "style": "IPY_MODEL_de170ebcde3b43f4bda97d7651ee9c62",
       "value": "tokenizer_config.json: 100%"
      }
     },
     "110bed56fbdf432283ccad38437744ed": {
      "model_module": "@jupyter-widgets/controls",
      "model_module_version": "2.0.0",
      "model_name": "HBoxModel",
      "state": {
       "children": [
        "IPY_MODEL_96149b763d814aed9f9167d094317148",
        "IPY_MODEL_5251ad1b80644fc49dd9cadf721e8eb2",
        "IPY_MODEL_682ed626b8ce45fcbef30cdb303da5da"
       ],
       "layout": "IPY_MODEL_581d8f2cbe3f4af5aca69699f7aa888b"
      }
     },
     "11b43b6d7a8a47a0bb36d6b7636b9d91": {
      "model_module": "@jupyter-widgets/base",
      "model_module_version": "2.0.0",
      "model_name": "LayoutModel",
      "state": {}
     },
     "12658aaf4682499dbe48c86ee6c19d2a": {
      "model_module": "@jupyter-widgets/controls",
      "model_module_version": "2.0.0",
      "model_name": "ProgressStyleModel",
      "state": {
       "description_width": ""
      }
     },
     "12d6a74eb60a467582f0042e66b6d763": {
      "model_module": "@jupyter-widgets/controls",
      "model_module_version": "2.0.0",
      "model_name": "HTMLStyleModel",
      "state": {
       "description_width": "",
       "font_size": null,
       "text_color": null
      }
     },
     "136614364b7b415db2b115293cc15338": {
      "model_module": "@jupyter-widgets/base",
      "model_module_version": "2.0.0",
      "model_name": "LayoutModel",
      "state": {}
     },
     "13839fcc10bf43fbaa653f7563c4884f": {
      "model_module": "@jupyter-widgets/base",
      "model_module_version": "2.0.0",
      "model_name": "LayoutModel",
      "state": {}
     },
     "14cf8977c2084eaf8f52010e659e10ba": {
      "model_module": "@jupyter-widgets/controls",
      "model_module_version": "2.0.0",
      "model_name": "FloatProgressModel",
      "state": {
       "bar_style": "success",
       "layout": "IPY_MODEL_e0ef95093c7f4487a4d0c4bc7f53a202",
       "max": 229,
       "style": "IPY_MODEL_f40927455fb54888b9015f42f6cad2f4",
       "value": 229
      }
     },
     "16cd6979cc084467bea8c614a05d70fc": {
      "model_module": "@jupyter-widgets/controls",
      "model_module_version": "2.0.0",
      "model_name": "FloatProgressModel",
      "state": {
       "bar_style": "success",
       "layout": "IPY_MODEL_820626aa39b34ca292c736583a765a45",
       "max": 26637,
       "style": "IPY_MODEL_50ec11c325294e54a9a980c71fcbac0e",
       "value": 26637
      }
     },
     "18e725a162334d4e98b5eac7a155fa72": {
      "model_module": "@jupyter-widgets/controls",
      "model_module_version": "2.0.0",
      "model_name": "HTMLModel",
      "state": {
       "layout": "IPY_MODEL_706996c8da164502b4edf33d0d2cb425",
       "style": "IPY_MODEL_7e2145fc04cb400386fe9f6318436ca3",
       "value": "config.json: 100%"
      }
     },
     "1b7a85b6441647df92317d8ea10c02db": {
      "model_module": "@jupyter-widgets/base",
      "model_module_version": "2.0.0",
      "model_name": "LayoutModel",
      "state": {}
     },
     "1c2499306a1a43538e11b1273d4dd78a": {
      "model_module": "@jupyter-widgets/controls",
      "model_module_version": "2.0.0",
      "model_name": "HTMLStyleModel",
      "state": {
       "description_width": "",
       "font_size": null,
       "text_color": null
      }
     },
     "1d6da948aed9422f8be433a1abc2d9d8": {
      "model_module": "@jupyter-widgets/base",
      "model_module_version": "2.0.0",
      "model_name": "LayoutModel",
      "state": {}
     },
     "1e112580f9c94c5d839da3a4dfc26f14": {
      "model_module": "@jupyter-widgets/base",
      "model_module_version": "2.0.0",
      "model_name": "LayoutModel",
      "state": {}
     },
     "1fc53b18412646ab9ac4cb5d10769410": {
      "model_module": "@jupyter-widgets/controls",
      "model_module_version": "2.0.0",
      "model_name": "HTMLStyleModel",
      "state": {
       "description_width": "",
       "font_size": null,
       "text_color": null
      }
     },
     "2066f2494cfe4f7a9c73e7c2639ee795": {
      "model_module": "@jupyter-widgets/base",
      "model_module_version": "2.0.0",
      "model_name": "LayoutModel",
      "state": {}
     },
     "21c9955435654d919788c7a445c6d2fa": {
      "model_module": "@jupyter-widgets/base",
      "model_module_version": "2.0.0",
      "model_name": "LayoutModel",
      "state": {}
     },
     "21e607754de9452a8d1bdfb2392bc641": {
      "model_module": "@jupyter-widgets/controls",
      "model_module_version": "2.0.0",
      "model_name": "HTMLModel",
      "state": {
       "layout": "IPY_MODEL_d2219c3246dd4c2ab36ca40037d6656f",
       "style": "IPY_MODEL_b3cf8ccaf0be4980b4a8e6074bf62f45",
       "value": " 229/229 [00:00&lt;00:00, 31.6kB/s]"
      }
     },
     "25a8047592b644e6aafdb111190e291d": {
      "model_module": "@jupyter-widgets/controls",
      "model_module_version": "2.0.0",
      "model_name": "HTMLModel",
      "state": {
       "layout": "IPY_MODEL_bb96269c84574f1a8d4dc561b55ba7c8",
       "style": "IPY_MODEL_e496596447df4d5fb59bfe5e719169e4",
       "value": " 110k/110k [00:00&lt;00:00, 12.9MB/s]"
      }
     },
     "26623a5acc964d649147bec4399b204c": {
      "model_module": "@jupyter-widgets/controls",
      "model_module_version": "2.0.0",
      "model_name": "HTMLModel",
      "state": {
       "layout": "IPY_MODEL_3bbdc418d5324def949b02654f635758",
       "style": "IPY_MODEL_4e2e07f4373048d0837c1d496cd61a49",
       "value": " 409M/409M [00:01&lt;00:00, 367MB/s]"
      }
     },
     "2731f66022f742bc813e33858697f02e": {
      "model_module": "@jupyter-widgets/base",
      "model_module_version": "2.0.0",
      "model_name": "LayoutModel",
      "state": {}
     },
     "28d9c5ab2f2c4e7897fe384eceba5918": {
      "model_module": "@jupyter-widgets/base",
      "model_module_version": "2.0.0",
      "model_name": "LayoutModel",
      "state": {}
     },
     "2922cef205f94d789fbb95db256a6931": {
      "model_module": "@jupyter-widgets/controls",
      "model_module_version": "2.0.0",
      "model_name": "HTMLModel",
      "state": {
       "layout": "IPY_MODEL_2066f2494cfe4f7a9c73e7c2639ee795",
       "style": "IPY_MODEL_582879f213f340798f665954197a1c5d",
       "value": " 190/190 [00:00&lt;00:00, 29.1kB/s]"
      }
     },
     "2a0265eb2f494fa7a60a831260e475a8": {
      "model_module": "@jupyter-widgets/controls",
      "model_module_version": "2.0.0",
      "model_name": "HTMLStyleModel",
      "state": {
       "description_width": "",
       "font_size": null,
       "text_color": null
      }
     },
     "2a44fbd0bee14360bd8e36c7bf93f411": {
      "model_module": "@jupyter-widgets/controls",
      "model_module_version": "2.0.0",
      "model_name": "HBoxModel",
      "state": {
       "children": [
        "IPY_MODEL_04f25cd9fe7c40bd92584972b6afc5e3",
        "IPY_MODEL_4e5191602cfe40b5b509f803bd8b8212",
        "IPY_MODEL_89032218503849569b96dacc010f4f42"
       ],
       "layout": "IPY_MODEL_53ad6334943d49308985e6df29309e5a"
      }
     },
     "2af25593525c410e8afd5c144376b089": {
      "model_module": "@jupyter-widgets/base",
      "model_module_version": "2.0.0",
      "model_name": "LayoutModel",
      "state": {}
     },
     "2b6f3ef5fa7445c28a6c66d408c859b4": {
      "model_module": "@jupyter-widgets/controls",
      "model_module_version": "2.0.0",
      "model_name": "HTMLStyleModel",
      "state": {
       "description_width": "",
       "font_size": null,
       "text_color": null
      }
     },
     "2bc36851c49b4423b4b620cdb40fd0b6": {
      "model_module": "@jupyter-widgets/base",
      "model_module_version": "2.0.0",
      "model_name": "LayoutModel",
      "state": {}
     },
     "2db5b0fbac414df69518c1144471e276": {
      "model_module": "@jupyter-widgets/controls",
      "model_module_version": "2.0.0",
      "model_name": "ProgressStyleModel",
      "state": {
       "description_width": ""
      }
     },
     "2e6e31d75beb48b1bb9df0be9814e0c2": {
      "model_module": "@jupyter-widgets/controls",
      "model_module_version": "2.0.0",
      "model_name": "HTMLModel",
      "state": {
       "layout": "IPY_MODEL_06dbf2dd56dc496a97946b3d8f95b4e4",
       "style": "IPY_MODEL_1c2499306a1a43538e11b1273d4dd78a",
       "value": " 932/932 [00:00&lt;00:00, 132kB/s]"
      }
     },
     "31072809cfe44ce39e863e5d5854573d": {
      "model_module": "@jupyter-widgets/controls",
      "model_module_version": "2.0.0",
      "model_name": "FloatProgressModel",
      "state": {
       "bar_style": "success",
       "layout": "IPY_MODEL_5414ca39c65f482ca018b57f37c34392",
       "max": 109540,
       "style": "IPY_MODEL_2db5b0fbac414df69518c1144471e276",
       "value": 109540
      }
     },
     "3434c8413fa94a949e7d99c96e3d9bdc": {
      "model_module": "@jupyter-widgets/controls",
      "model_module_version": "2.0.0",
      "model_name": "HBoxModel",
      "state": {
       "children": [
        "IPY_MODEL_18e725a162334d4e98b5eac7a155fa72",
        "IPY_MODEL_8abe6a11a77543a6ab78838c00702377",
        "IPY_MODEL_2e6e31d75beb48b1bb9df0be9814e0c2"
       ],
       "layout": "IPY_MODEL_f77a515ea6914080bbf9215491006c46"
      }
     },
     "355a2e88e216486daeee0e3e3802d6c6": {
      "model_module": "@jupyter-widgets/base",
      "model_module_version": "2.0.0",
      "model_name": "LayoutModel",
      "state": {}
     },
     "378aafd4cc1d46e598eedd5982fade5c": {
      "model_module": "@jupyter-widgets/controls",
      "model_module_version": "2.0.0",
      "model_name": "HTMLStyleModel",
      "state": {
       "description_width": "",
       "font_size": null,
       "text_color": null
      }
     },
     "38e286e4f7074498a04c85f7ae799845": {
      "model_module": "@jupyter-widgets/controls",
      "model_module_version": "2.0.0",
      "model_name": "HTMLStyleModel",
      "state": {
       "description_width": "",
       "font_size": null,
       "text_color": null
      }
     },
     "392cf2901d9c407ab91d9869c9e42c85": {
      "model_module": "@jupyter-widgets/controls",
      "model_module_version": "2.0.0",
      "model_name": "HTMLModel",
      "state": {
       "layout": "IPY_MODEL_bca182cbe478462dada847c0cab3ddbc",
       "style": "IPY_MODEL_e7e46ffc458d462ab92567d4ff95a82f",
       "value": "sentence_bert_config.json: 100%"
      }
     },
     "3bbdc418d5324def949b02654f635758": {
      "model_module": "@jupyter-widgets/base",
      "model_module_version": "2.0.0",
      "model_name": "LayoutModel",
      "state": {}
     },
     "3ea26c3e40d440cf9638370158046431": {
      "model_module": "@jupyter-widgets/controls",
      "model_module_version": "2.0.0",
      "model_name": "HTMLStyleModel",
      "state": {
       "description_width": "",
       "font_size": null,
       "text_color": null
      }
     },
     "40766844a8664678ab97a73fa8b069da": {
      "model_module": "@jupyter-widgets/base",
      "model_module_version": "2.0.0",
      "model_name": "LayoutModel",
      "state": {}
     },
     "42c210e7929943438a3715b769b93875": {
      "model_module": "@jupyter-widgets/base",
      "model_module_version": "2.0.0",
      "model_name": "LayoutModel",
      "state": {}
     },
     "445ae3358c074208a54c41d9eeaa0a0a": {
      "model_module": "@jupyter-widgets/controls",
      "model_module_version": "2.0.0",
      "model_name": "HTMLStyleModel",
      "state": {
       "description_width": "",
       "font_size": null,
       "text_color": null
      }
     },
     "44c081a453a3490b92cb71a26847a7a0": {
      "model_module": "@jupyter-widgets/controls",
      "model_module_version": "2.0.0",
      "model_name": "HTMLStyleModel",
      "state": {
       "description_width": "",
       "font_size": null,
       "text_color": null
      }
     },
     "452e49dd4a2343e7a8bdabe6cae92af3": {
      "model_module": "@jupyter-widgets/controls",
      "model_module_version": "2.0.0",
      "model_name": "HTMLStyleModel",
      "state": {
       "description_width": "",
       "font_size": null,
       "text_color": null
      }
     },
     "458370f962554d09ab85a9d9ae33c9d6": {
      "model_module": "@jupyter-widgets/base",
      "model_module_version": "2.0.0",
      "model_name": "LayoutModel",
      "state": {}
     },
     "46453552ec6b44bc8c943dd3e614e009": {
      "model_module": "@jupyter-widgets/base",
      "model_module_version": "2.0.0",
      "model_name": "LayoutModel",
      "state": {}
     },
     "4742bf9248a24718b46900d261c7ab9d": {
      "model_module": "@jupyter-widgets/base",
      "model_module_version": "2.0.0",
      "model_name": "LayoutModel",
      "state": {}
     },
     "48ca8ae41b664c139ab470cbbb49b744": {
      "model_module": "@jupyter-widgets/base",
      "model_module_version": "2.0.0",
      "model_name": "LayoutModel",
      "state": {}
     },
     "48eeeb243664455493f1e51ea62f4df2": {
      "model_module": "@jupyter-widgets/controls",
      "model_module_version": "2.0.0",
      "model_name": "HBoxModel",
      "state": {
       "children": [
        "IPY_MODEL_1026dea023fd486791f8bdc89a752c1b",
        "IPY_MODEL_ad310304965f4a46a1b4cfb4aa1408a2",
        "IPY_MODEL_acb6caddbb1743eab1494a1243c41494"
       ],
       "layout": "IPY_MODEL_21c9955435654d919788c7a445c6d2fa"
      }
     },
     "4911d49e2ffc4c66afd27b8997882863": {
      "model_module": "@jupyter-widgets/controls",
      "model_module_version": "2.0.0",
      "model_name": "HBoxModel",
      "state": {
       "children": [
        "IPY_MODEL_7b407259cd7f4cc991a0a1f804fccad5",
        "IPY_MODEL_57866f99455a4561bc7ab376073805ed",
        "IPY_MODEL_e2ad09826d0a4d6493e9a26ea929cf16"
       ],
       "layout": "IPY_MODEL_1e112580f9c94c5d839da3a4dfc26f14"
      }
     },
     "494467191fce41c490cb413cb3963c58": {
      "model_module": "@jupyter-widgets/base",
      "model_module_version": "2.0.0",
      "model_name": "LayoutModel",
      "state": {}
     },
     "496519a8d39b49d89eeab30c24c30d0f": {
      "model_module": "@jupyter-widgets/base",
      "model_module_version": "2.0.0",
      "model_name": "LayoutModel",
      "state": {}
     },
     "4a3961987b824955b8c22a4cb348fc52": {
      "model_module": "@jupyter-widgets/controls",
      "model_module_version": "2.0.0",
      "model_name": "HTMLStyleModel",
      "state": {
       "description_width": "",
       "font_size": null,
       "text_color": null
      }
     },
     "4bd736e4c958410ba16eb3ead52cf28a": {
      "model_module": "@jupyter-widgets/controls",
      "model_module_version": "2.0.0",
      "model_name": "HTMLStyleModel",
      "state": {
       "description_width": "",
       "font_size": null,
       "text_color": null
      }
     },
     "4c3674c9a888487589d614d9dbf27df8": {
      "model_module": "@jupyter-widgets/base",
      "model_module_version": "2.0.0",
      "model_name": "LayoutModel",
      "state": {}
     },
     "4c98b3216791486db0673d64b3c1dbd0": {
      "model_module": "@jupyter-widgets/controls",
      "model_module_version": "2.0.0",
      "model_name": "ProgressStyleModel",
      "state": {
       "description_width": ""
      }
     },
     "4db17eecfa4b443991097218aee743fa": {
      "model_module": "@jupyter-widgets/controls",
      "model_module_version": "2.0.0",
      "model_name": "HTMLStyleModel",
      "state": {
       "description_width": "",
       "font_size": null,
       "text_color": null
      }
     },
     "4e2e07f4373048d0837c1d496cd61a49": {
      "model_module": "@jupyter-widgets/controls",
      "model_module_version": "2.0.0",
      "model_name": "HTMLStyleModel",
      "state": {
       "description_width": "",
       "font_size": null,
       "text_color": null
      }
     },
     "4e5191602cfe40b5b509f803bd8b8212": {
      "model_module": "@jupyter-widgets/controls",
      "model_module_version": "2.0.0",
      "model_name": "FloatProgressModel",
      "state": {
       "bar_style": "success",
       "layout": "IPY_MODEL_7f26062eb56847adbbf5db24119ee868",
       "max": 125,
       "style": "IPY_MODEL_5b7859e5030c45638a614507645ad9c9",
       "value": 125
      }
     },
     "5018c302368b4e1aa9bd01c5fbb48302": {
      "model_module": "@jupyter-widgets/base",
      "model_module_version": "2.0.0",
      "model_name": "LayoutModel",
      "state": {}
     },
     "50ec11c325294e54a9a980c71fcbac0e": {
      "model_module": "@jupyter-widgets/controls",
      "model_module_version": "2.0.0",
      "model_name": "ProgressStyleModel",
      "state": {
       "description_width": ""
      }
     },
     "5251ad1b80644fc49dd9cadf721e8eb2": {
      "model_module": "@jupyter-widgets/controls",
      "model_module_version": "2.0.0",
      "model_name": "FloatProgressModel",
      "state": {
       "bar_style": "success",
       "layout": "IPY_MODEL_46453552ec6b44bc8c943dd3e614e009",
       "max": 53,
       "style": "IPY_MODEL_e98b5e9c883747c3adf8f49caccb4936",
       "value": 53
      }
     },
     "538b1531c7384c88a7e9d0f21d24a629": {
      "model_module": "@jupyter-widgets/controls",
      "model_module_version": "2.0.0",
      "model_name": "FloatProgressModel",
      "state": {
       "bar_style": "success",
       "layout": "IPY_MODEL_e1ea32d8e98f4904a0167f0524e29eb2",
       "max": 342,
       "style": "IPY_MODEL_4c98b3216791486db0673d64b3c1dbd0",
       "value": 342
      }
     },
     "53ad6334943d49308985e6df29309e5a": {
      "model_module": "@jupyter-widgets/base",
      "model_module_version": "2.0.0",
      "model_name": "LayoutModel",
      "state": {}
     },
     "5414ca39c65f482ca018b57f37c34392": {
      "model_module": "@jupyter-widgets/base",
      "model_module_version": "2.0.0",
      "model_name": "LayoutModel",
      "state": {}
     },
     "55cc3a7c6ccf4bbcb5e7cc1952c5c4ab": {
      "model_module": "@jupyter-widgets/controls",
      "model_module_version": "2.0.0",
      "model_name": "HTMLModel",
      "state": {
       "layout": "IPY_MODEL_5c0b5b7add374a3ebca00b360628d7ef",
       "style": "IPY_MODEL_4a3961987b824955b8c22a4cb348fc52",
       "value": "model.safetensors: 100%"
      }
     },
     "55d741154bd746dfac47f2c511ba0195": {
      "model_module": "@jupyter-widgets/controls",
      "model_module_version": "2.0.0",
      "model_name": "HTMLModel",
      "state": {
       "layout": "IPY_MODEL_c2c307fdbd44477f8cea2f24d242fae0",
       "style": "IPY_MODEL_f2798a3d3f064ce682380d045d812865",
       "value": " 439k/439k [00:00&lt;00:00, 1.77MB/s]"
      }
     },
     "57866f99455a4561bc7ab376073805ed": {
      "model_module": "@jupyter-widgets/controls",
      "model_module_version": "2.0.0",
      "model_name": "FloatProgressModel",
      "state": {
       "bar_style": "success",
       "layout": "IPY_MODEL_8aa2a6dbe94147acbf31d34917da63f4",
       "max": 409097104,
       "style": "IPY_MODEL_d6d22664b28f4d7b8f62a796eaf5ba60",
       "value": 409097104
      }
     },
     "581d8f2cbe3f4af5aca69699f7aa888b": {
      "model_module": "@jupyter-widgets/base",
      "model_module_version": "2.0.0",
      "model_name": "LayoutModel",
      "state": {}
     },
     "582879f213f340798f665954197a1c5d": {
      "model_module": "@jupyter-widgets/controls",
      "model_module_version": "2.0.0",
      "model_name": "HTMLStyleModel",
      "state": {
       "description_width": "",
       "font_size": null,
       "text_color": null
      }
     },
     "58a1513b518945e7a6d5db8473479ff7": {
      "model_module": "@jupyter-widgets/base",
      "model_module_version": "2.0.0",
      "model_name": "LayoutModel",
      "state": {}
     },
     "58edf660182a462b9e06e1902450fcaa": {
      "model_module": "@jupyter-widgets/base",
      "model_module_version": "2.0.0",
      "model_name": "LayoutModel",
      "state": {}
     },
     "58f16f8095cf423e9de9c2584f449807": {
      "model_module": "@jupyter-widgets/controls",
      "model_module_version": "2.0.0",
      "model_name": "FloatProgressModel",
      "state": {
       "bar_style": "success",
       "layout": "IPY_MODEL_4c3674c9a888487589d614d9dbf27df8",
       "max": 229,
       "style": "IPY_MODEL_d0a31cd86da4438cbe96e33ec13047a9",
       "value": 229
      }
     },
     "597ccd66aa594c7c9da02df35f76aa77": {
      "model_module": "@jupyter-widgets/base",
      "model_module_version": "2.0.0",
      "model_name": "LayoutModel",
      "state": {}
     },
     "5b7859e5030c45638a614507645ad9c9": {
      "model_module": "@jupyter-widgets/controls",
      "model_module_version": "2.0.0",
      "model_name": "ProgressStyleModel",
      "state": {
       "description_width": ""
      }
     },
     "5bb53ecdf4894cdaa0155cb20686d57b": {
      "model_module": "@jupyter-widgets/base",
      "model_module_version": "2.0.0",
      "model_name": "LayoutModel",
      "state": {}
     },
     "5c0b5b7add374a3ebca00b360628d7ef": {
      "model_module": "@jupyter-widgets/base",
      "model_module_version": "2.0.0",
      "model_name": "LayoutModel",
      "state": {}
     },
     "61b3220f6302458c849949c6b25e4e99": {
      "model_module": "@jupyter-widgets/controls",
      "model_module_version": "2.0.0",
      "model_name": "HTMLModel",
      "state": {
       "layout": "IPY_MODEL_871af767d0404092b15957589cd90d9f",
       "style": "IPY_MODEL_378aafd4cc1d46e598eedd5982fade5c",
       "value": " 53.0/53.0 [00:00&lt;00:00, 8.13kB/s]"
      }
     },
     "630d0a5bde654bc9be40655ee1c1359e": {
      "model_module": "@jupyter-widgets/controls",
      "model_module_version": "2.0.0",
      "model_name": "HTMLStyleModel",
      "state": {
       "description_width": "",
       "font_size": null,
       "text_color": null
      }
     },
     "64889541f42a4cf2a1d44c4b40b5f69e": {
      "model_module": "@jupyter-widgets/controls",
      "model_module_version": "2.0.0",
      "model_name": "HTMLModel",
      "state": {
       "layout": "IPY_MODEL_7a67417b4c9b4e24aa735cfced145361",
       "style": "IPY_MODEL_44c081a453a3490b92cb71a26847a7a0",
       "value": " 229/229 [00:00&lt;00:00, 32.4kB/s]"
      }
     },
     "64aa0bcbcf0d4f499460c0c639ec0970": {
      "model_module": "@jupyter-widgets/controls",
      "model_module_version": "2.0.0",
      "model_name": "HBoxModel",
      "state": {
       "children": [
        "IPY_MODEL_f139958689034021b31ecc5c52363c68",
        "IPY_MODEL_0782bcbfba0d46f18b7284c6e6702e4a",
        "IPY_MODEL_97cad5bfc99e460e8f920e7c81e0a754"
       ],
       "layout": "IPY_MODEL_93176e1a89874c04aee9e2d8e7ff07f1"
      }
     },
     "650caa8b3eb54e96b6c030ca48f89823": {
      "model_module": "@jupyter-widgets/base",
      "model_module_version": "2.0.0",
      "model_name": "LayoutModel",
      "state": {}
     },
     "66d89716c850471ab07271f10cd98ef4": {
      "model_module": "@jupyter-widgets/controls",
      "model_module_version": "2.0.0",
      "model_name": "FloatProgressModel",
      "state": {
       "bar_style": "success",
       "layout": "IPY_MODEL_ded5a50d65704bcdbe08cfbab16c47cc",
       "max": 190,
       "style": "IPY_MODEL_e8b2c270a3024ec9aeeb2012d2ad2ab6",
       "value": 190
      }
     },
     "682ed626b8ce45fcbef30cdb303da5da": {
      "model_module": "@jupyter-widgets/controls",
      "model_module_version": "2.0.0",
      "model_name": "HTMLModel",
      "state": {
       "layout": "IPY_MODEL_11b43b6d7a8a47a0bb36d6b7636b9d91",
       "style": "IPY_MODEL_4bd736e4c958410ba16eb3ead52cf28a",
       "value": " 53.0/53.0 [00:00&lt;00:00, 7.28kB/s]"
      }
     },
     "6866ff5af86349109ea71950f668085e": {
      "model_module": "@jupyter-widgets/controls",
      "model_module_version": "2.0.0",
      "model_name": "HTMLModel",
      "state": {
       "layout": "IPY_MODEL_93ed94ffbce84cf1bc92cff266486168",
       "style": "IPY_MODEL_e204bc988fd24fe5aa6480af4c8c2a8f",
       "value": " 26.6k/26.6k [00:00&lt;00:00, 3.39MB/s]"
      }
     },
     "6c4de2a509184e2c9d2d344d0ac17528": {
      "model_module": "@jupyter-widgets/controls",
      "model_module_version": "2.0.0",
      "model_name": "HTMLModel",
      "state": {
       "layout": "IPY_MODEL_28d9c5ab2f2c4e7897fe384eceba5918",
       "style": "IPY_MODEL_f476124b5f434db6b4d9c9ad7b4aa712",
       "value": "1_Pooling/config.json: 100%"
      }
     },
     "6c561b371d504146a512edf9c544e763": {
      "model_module": "@jupyter-widgets/controls",
      "model_module_version": "2.0.0",
      "model_name": "HTMLModel",
      "state": {
       "layout": "IPY_MODEL_90796a7e0ec743e68d2da9185faa01bc",
       "style": "IPY_MODEL_eb008e92ea664c8087a4d2e7507f09a1",
       "value": "modules.json: 100%"
      }
     },
     "6e04abcbdbb64b498f975663453727bf": {
      "model_module": "@jupyter-widgets/base",
      "model_module_version": "2.0.0",
      "model_name": "LayoutModel",
      "state": {}
     },
     "706996c8da164502b4edf33d0d2cb425": {
      "model_module": "@jupyter-widgets/base",
      "model_module_version": "2.0.0",
      "model_name": "LayoutModel",
      "state": {}
     },
     "7102275184eb4684b11cef0d574363ec": {
      "model_module": "@jupyter-widgets/base",
      "model_module_version": "2.0.0",
      "model_name": "LayoutModel",
      "state": {}
     },
     "71889b819e1d4cf79488b37c5071dba7": {
      "model_module": "@jupyter-widgets/controls",
      "model_module_version": "2.0.0",
      "model_name": "HBoxModel",
      "state": {
       "children": [
        "IPY_MODEL_07abeecb01eb4e3eaaf3c96481d7174c",
        "IPY_MODEL_538b1531c7384c88a7e9d0f21d24a629",
        "IPY_MODEL_894dd60f8ba84fcfa15e121a18d46448"
       ],
       "layout": "IPY_MODEL_a9f71fbdf3af4278ae7b6a9702e3d546"
      }
     },
     "724918aa22644d73adca60ec6bb57dd0": {
      "model_module": "@jupyter-widgets/controls",
      "model_module_version": "2.0.0",
      "model_name": "FloatProgressModel",
      "state": {
       "bar_style": "success",
       "layout": "IPY_MODEL_494467191fce41c490cb413cb3963c58",
       "max": 125,
       "style": "IPY_MODEL_d4e0db87bed045c295cb7a240f0d4342",
       "value": 125
      }
     },
     "73287b0df9cc4052a8cee3ff7adb91d8": {
      "model_module": "@jupyter-widgets/controls",
      "model_module_version": "2.0.0",
      "model_name": "HTMLStyleModel",
      "state": {
       "description_width": "",
       "font_size": null,
       "text_color": null
      }
     },
     "73cff8de455f4babbfcf7fe2d1463e0b": {
      "model_module": "@jupyter-widgets/base",
      "model_module_version": "2.0.0",
      "model_name": "LayoutModel",
      "state": {}
     },
     "742a25829f984316b71ff49b9c2a742c": {
      "model_module": "@jupyter-widgets/controls",
      "model_module_version": "2.0.0",
      "model_name": "HTMLModel",
      "state": {
       "layout": "IPY_MODEL_e4479e0d52864724bd4a0401aecbccf3",
       "style": "IPY_MODEL_baabf4c26e9e416e86ecdd63bf83f0dc",
       "value": "vocab.txt: 100%"
      }
     },
     "7431ec01d647407aaca97d7f3e4545dc": {
      "model_module": "@jupyter-widgets/controls",
      "model_module_version": "2.0.0",
      "model_name": "HTMLModel",
      "state": {
       "layout": "IPY_MODEL_fb7b299fd41641dab508662f238d2dea",
       "style": "IPY_MODEL_630d0a5bde654bc9be40655ee1c1359e",
       "value": " 125/125 [00:00&lt;00:00, 19.4kB/s]"
      }
     },
     "76bde1a9b7d3421fa205731981c4d506": {
      "model_module": "@jupyter-widgets/base",
      "model_module_version": "2.0.0",
      "model_name": "LayoutModel",
      "state": {}
     },
     "77493d70427440e98a205b832ec3cccf": {
      "model_module": "@jupyter-widgets/controls",
      "model_module_version": "2.0.0",
      "model_name": "HBoxModel",
      "state": {
       "children": [
        "IPY_MODEL_068de70ff631488d84b16c661d6a60ae",
        "IPY_MODEL_14cf8977c2084eaf8f52010e659e10ba",
        "IPY_MODEL_64889541f42a4cf2a1d44c4b40b5f69e"
       ],
       "layout": "IPY_MODEL_1d6da948aed9422f8be433a1abc2d9d8"
      }
     },
     "777014a0b3694dfd94a42e3e89e4b672": {
      "model_module": "@jupyter-widgets/controls",
      "model_module_version": "2.0.0",
      "model_name": "HTMLModel",
      "state": {
       "layout": "IPY_MODEL_b622ca0ae00244bd89158bf6175e1264",
       "style": "IPY_MODEL_2b6f3ef5fa7445c28a6c66d408c859b4",
       "value": " 932/932 [00:00&lt;00:00, 95.4kB/s]"
      }
     },
     "7a4125ca67384bb3bc22e0ed8a896fba": {
      "model_module": "@jupyter-widgets/base",
      "model_module_version": "2.0.0",
      "model_name": "LayoutModel",
      "state": {}
     },
     "7a67417b4c9b4e24aa735cfced145361": {
      "model_module": "@jupyter-widgets/base",
      "model_module_version": "2.0.0",
      "model_name": "LayoutModel",
      "state": {}
     },
     "7a6bb43846e34ca783e455bc87f48939": {
      "model_module": "@jupyter-widgets/base",
      "model_module_version": "2.0.0",
      "model_name": "LayoutModel",
      "state": {}
     },
     "7b407259cd7f4cc991a0a1f804fccad5": {
      "model_module": "@jupyter-widgets/controls",
      "model_module_version": "2.0.0",
      "model_name": "HTMLModel",
      "state": {
       "layout": "IPY_MODEL_76bde1a9b7d3421fa205731981c4d506",
       "style": "IPY_MODEL_99ec91f5558f472a88913f0e2c7af782",
       "value": "model.safetensors: 100%"
      }
     },
     "7b5be7b2677549d6848bd7c9a0d280f2": {
      "model_module": "@jupyter-widgets/base",
      "model_module_version": "2.0.0",
      "model_name": "LayoutModel",
      "state": {}
     },
     "7e2145fc04cb400386fe9f6318436ca3": {
      "model_module": "@jupyter-widgets/controls",
      "model_module_version": "2.0.0",
      "model_name": "HTMLStyleModel",
      "state": {
       "description_width": "",
       "font_size": null,
       "text_color": null
      }
     },
     "7e73411c37ba4a1ca6261d05c372346e": {
      "model_module": "@jupyter-widgets/controls",
      "model_module_version": "2.0.0",
      "model_name": "HTMLStyleModel",
      "state": {
       "description_width": "",
       "font_size": null,
       "text_color": null
      }
     },
     "7f26062eb56847adbbf5db24119ee868": {
      "model_module": "@jupyter-widgets/base",
      "model_module_version": "2.0.0",
      "model_name": "LayoutModel",
      "state": {}
     },
     "7f44de00c1574c7c85b817f2d0a8c2e5": {
      "model_module": "@jupyter-widgets/controls",
      "model_module_version": "2.0.0",
      "model_name": "HTMLStyleModel",
      "state": {
       "description_width": "",
       "font_size": null,
       "text_color": null
      }
     },
     "820626aa39b34ca292c736583a765a45": {
      "model_module": "@jupyter-widgets/base",
      "model_module_version": "2.0.0",
      "model_name": "LayoutModel",
      "state": {}
     },
     "850030afdf3d4f52a4c2fe7c386b507f": {
      "model_module": "@jupyter-widgets/base",
      "model_module_version": "2.0.0",
      "model_name": "LayoutModel",
      "state": {}
     },
     "871af767d0404092b15957589cd90d9f": {
      "model_module": "@jupyter-widgets/base",
      "model_module_version": "2.0.0",
      "model_name": "LayoutModel",
      "state": {}
     },
     "88e1606575a84f84b273a202859d97ea": {
      "model_module": "@jupyter-widgets/controls",
      "model_module_version": "2.0.0",
      "model_name": "HTMLStyleModel",
      "state": {
       "description_width": "",
       "font_size": null,
       "text_color": null
      }
     },
     "89032218503849569b96dacc010f4f42": {
      "model_module": "@jupyter-widgets/controls",
      "model_module_version": "2.0.0",
      "model_name": "HTMLModel",
      "state": {
       "layout": "IPY_MODEL_58edf660182a462b9e06e1902450fcaa",
       "style": "IPY_MODEL_1fc53b18412646ab9ac4cb5d10769410",
       "value": " 125/125 [00:00&lt;00:00, 17.0kB/s]"
      }
     },
     "894dd60f8ba84fcfa15e121a18d46448": {
      "model_module": "@jupyter-widgets/controls",
      "model_module_version": "2.0.0",
      "model_name": "HTMLModel",
      "state": {
       "layout": "IPY_MODEL_0279807602bb49f996ec8e6f5390c32b",
       "style": "IPY_MODEL_3ea26c3e40d440cf9638370158046431",
       "value": " 342/342 [00:00&lt;00:00, 43.1kB/s]"
      }
     },
     "8aa2a6dbe94147acbf31d34917da63f4": {
      "model_module": "@jupyter-widgets/base",
      "model_module_version": "2.0.0",
      "model_name": "LayoutModel",
      "state": {}
     },
     "8abe6a11a77543a6ab78838c00702377": {
      "model_module": "@jupyter-widgets/controls",
      "model_module_version": "2.0.0",
      "model_name": "FloatProgressModel",
      "state": {
       "bar_style": "success",
       "layout": "IPY_MODEL_4742bf9248a24718b46900d261c7ab9d",
       "max": 932,
       "style": "IPY_MODEL_c5fba6864cc74cccac68528d7e520f24",
       "value": 932
      }
     },
     "8acfaa871ffd46a6a6837357d99be12d": {
      "model_module": "@jupyter-widgets/base",
      "model_module_version": "2.0.0",
      "model_name": "LayoutModel",
      "state": {}
     },
     "8d1f47f85b9545e2ab2692a52002ffc0": {
      "model_module": "@jupyter-widgets/controls",
      "model_module_version": "2.0.0",
      "model_name": "HTMLModel",
      "state": {
       "layout": "IPY_MODEL_136614364b7b415db2b115293cc15338",
       "style": "IPY_MODEL_7e73411c37ba4a1ca6261d05c372346e",
       "value": "special_tokens_map.json: 100%"
      }
     },
     "90796a7e0ec743e68d2da9185faa01bc": {
      "model_module": "@jupyter-widgets/base",
      "model_module_version": "2.0.0",
      "model_name": "LayoutModel",
      "state": {}
     },
     "93071a1fa9324027ac9817f6691798e1": {
      "model_module": "@jupyter-widgets/controls",
      "model_module_version": "2.0.0",
      "model_name": "HBoxModel",
      "state": {
       "children": [
        "IPY_MODEL_392cf2901d9c407ab91d9869c9e42c85",
        "IPY_MODEL_ace4f6dda9c6443281e17872ecd2a6f8",
        "IPY_MODEL_61b3220f6302458c849949c6b25e4e99"
       ],
       "layout": "IPY_MODEL_f1e1ada0cbbb441f8868889561add4d6"
      }
     },
     "9313ba2abe9c41c4acc04bbb827f092d": {
      "model_module": "@jupyter-widgets/controls",
      "model_module_version": "2.0.0",
      "model_name": "HTMLStyleModel",
      "state": {
       "description_width": "",
       "font_size": null,
       "text_color": null
      }
     },
     "93176e1a89874c04aee9e2d8e7ff07f1": {
      "model_module": "@jupyter-widgets/base",
      "model_module_version": "2.0.0",
      "model_name": "LayoutModel",
      "state": {}
     },
     "9366f592e4e54bd6b85edbc5d5ee06d3": {
      "model_module": "@jupyter-widgets/controls",
      "model_module_version": "2.0.0",
      "model_name": "FloatProgressModel",
      "state": {
       "bar_style": "success",
       "layout": "IPY_MODEL_5bb53ecdf4894cdaa0155cb20686d57b",
       "max": 439124,
       "style": "IPY_MODEL_cd7c7ff9d427403d808c6ca4ef60871d",
       "value": 439124
      }
     },
     "93ed94ffbce84cf1bc92cff266486168": {
      "model_module": "@jupyter-widgets/base",
      "model_module_version": "2.0.0",
      "model_name": "LayoutModel",
      "state": {}
     },
     "96149b763d814aed9f9167d094317148": {
      "model_module": "@jupyter-widgets/controls",
      "model_module_version": "2.0.0",
      "model_name": "HTMLModel",
      "state": {
       "layout": "IPY_MODEL_ef839c62eb9b49839c2d8a1c6d108f36",
       "style": "IPY_MODEL_a49382fb5a544a108b0ac16a643a4ff5",
       "value": "sentence_bert_config.json: 100%"
      }
     },
     "97cad5bfc99e460e8f920e7c81e0a754": {
      "model_module": "@jupyter-widgets/controls",
      "model_module_version": "2.0.0",
      "model_name": "HTMLModel",
      "state": {
       "layout": "IPY_MODEL_597ccd66aa594c7c9da02df35f76aa77",
       "style": "IPY_MODEL_7f44de00c1574c7c85b817f2d0a8c2e5",
       "value": " 439k/439k [00:00&lt;00:00, 4.80MB/s]"
      }
     },
     "98485ae239af4722906beebf40dc1809": {
      "model_module": "@jupyter-widgets/controls",
      "model_module_version": "2.0.0",
      "model_name": "HTMLModel",
      "state": {
       "layout": "IPY_MODEL_650caa8b3eb54e96b6c030ca48f89823",
       "style": "IPY_MODEL_9313ba2abe9c41c4acc04bbb827f092d",
       "value": " 26.6k/26.6k [00:00&lt;00:00, 3.52MB/s]"
      }
     },
     "99da3a08f5224358af0d0cb4ce6a064f": {
      "model_module": "@jupyter-widgets/controls",
      "model_module_version": "2.0.0",
      "model_name": "ProgressStyleModel",
      "state": {
       "description_width": ""
      }
     },
     "99ec91f5558f472a88913f0e2c7af782": {
      "model_module": "@jupyter-widgets/controls",
      "model_module_version": "2.0.0",
      "model_name": "HTMLStyleModel",
      "state": {
       "description_width": "",
       "font_size": null,
       "text_color": null
      }
     },
     "9bf07d8ea94a4285a15311affe63153b": {
      "model_module": "@jupyter-widgets/controls",
      "model_module_version": "2.0.0",
      "model_name": "HBoxModel",
      "state": {
       "children": [
        "IPY_MODEL_f3f6614a7c564987ae7b1987ea564499",
        "IPY_MODEL_66d89716c850471ab07271f10cd98ef4",
        "IPY_MODEL_2922cef205f94d789fbb95db256a6931"
       ],
       "layout": "IPY_MODEL_58a1513b518945e7a6d5db8473479ff7"
      }
     },
     "a0f48e58ed91462ca9fcae10ae8aae88": {
      "model_module": "@jupyter-widgets/controls",
      "model_module_version": "2.0.0",
      "model_name": "HBoxModel",
      "state": {
       "children": [
        "IPY_MODEL_8d1f47f85b9545e2ab2692a52002ffc0",
        "IPY_MODEL_724918aa22644d73adca60ec6bb57dd0",
        "IPY_MODEL_7431ec01d647407aaca97d7f3e4545dc"
       ],
       "layout": "IPY_MODEL_355a2e88e216486daeee0e3e3802d6c6"
      }
     },
     "a2cbb18eb7174f1f890a2bfd28d84750": {
      "model_module": "@jupyter-widgets/controls",
      "model_module_version": "2.0.0",
      "model_name": "ProgressStyleModel",
      "state": {
       "description_width": ""
      }
     },
     "a352fb79198c4e0c862b03cbfd065091": {
      "model_module": "@jupyter-widgets/base",
      "model_module_version": "2.0.0",
      "model_name": "LayoutModel",
      "state": {}
     },
     "a49382fb5a544a108b0ac16a643a4ff5": {
      "model_module": "@jupyter-widgets/controls",
      "model_module_version": "2.0.0",
      "model_name": "HTMLStyleModel",
      "state": {
       "description_width": "",
       "font_size": null,
       "text_color": null
      }
     },
     "a59b0f5bee0745139ddb6920c426f1ec": {
      "model_module": "@jupyter-widgets/controls",
      "model_module_version": "2.0.0",
      "model_name": "HTMLModel",
      "state": {
       "layout": "IPY_MODEL_850030afdf3d4f52a4c2fe7c386b507f",
       "style": "IPY_MODEL_077fc7a0099a426189c9b77be283b084",
       "value": "vocab.txt: 100%"
      }
     },
     "a62f315863cf40999c97011f018ea013": {
      "model_module": "@jupyter-widgets/base",
      "model_module_version": "2.0.0",
      "model_name": "LayoutModel",
      "state": {}
     },
     "a9f71fbdf3af4278ae7b6a9702e3d546": {
      "model_module": "@jupyter-widgets/base",
      "model_module_version": "2.0.0",
      "model_name": "LayoutModel",
      "state": {}
     },
     "aa559a4184c34a61a3f8e3bcafc27799": {
      "model_module": "@jupyter-widgets/controls",
      "model_module_version": "2.0.0",
      "model_name": "ProgressStyleModel",
      "state": {
       "description_width": ""
      }
     },
     "acb6caddbb1743eab1494a1243c41494": {
      "model_module": "@jupyter-widgets/controls",
      "model_module_version": "2.0.0",
      "model_name": "HTMLModel",
      "state": {
       "layout": "IPY_MODEL_bf6c4615af02416f894293a08cfe579b",
       "style": "IPY_MODEL_445ae3358c074208a54c41d9eeaa0a0a",
       "value": " 342/342 [00:00&lt;00:00, 37.1kB/s]"
      }
     },
     "ace4f6dda9c6443281e17872ecd2a6f8": {
      "model_module": "@jupyter-widgets/controls",
      "model_module_version": "2.0.0",
      "model_name": "FloatProgressModel",
      "state": {
       "bar_style": "success",
       "layout": "IPY_MODEL_a352fb79198c4e0c862b03cbfd065091",
       "max": 53,
       "style": "IPY_MODEL_da0cb4678eaa4b2e8d4c13d1d1c0d3b9",
       "value": 53
      }
     },
     "ad310304965f4a46a1b4cfb4aa1408a2": {
      "model_module": "@jupyter-widgets/controls",
      "model_module_version": "2.0.0",
      "model_name": "FloatProgressModel",
      "state": {
       "bar_style": "success",
       "layout": "IPY_MODEL_bc9da54cc1f04b22a24bc79ccb22f641",
       "max": 342,
       "style": "IPY_MODEL_a2cbb18eb7174f1f890a2bfd28d84750",
       "value": 342
      }
     },
     "af18ea3a452d436c86bf36a08950efb0": {
      "model_module": "@jupyter-widgets/controls",
      "model_module_version": "2.0.0",
      "model_name": "FloatProgressModel",
      "state": {
       "bar_style": "success",
       "layout": "IPY_MODEL_6e04abcbdbb64b498f975663453727bf",
       "max": 109540,
       "style": "IPY_MODEL_0a2b7d77e62a491581c33d6a8513874b",
       "value": 109540
      }
     },
     "b3cf8ccaf0be4980b4a8e6074bf62f45": {
      "model_module": "@jupyter-widgets/controls",
      "model_module_version": "2.0.0",
      "model_name": "HTMLStyleModel",
      "state": {
       "description_width": "",
       "font_size": null,
       "text_color": null
      }
     },
     "b622ca0ae00244bd89158bf6175e1264": {
      "model_module": "@jupyter-widgets/base",
      "model_module_version": "2.0.0",
      "model_name": "LayoutModel",
      "state": {}
     },
     "b91942c0f65846a297557b97f1fedae7": {
      "model_module": "@jupyter-widgets/controls",
      "model_module_version": "2.0.0",
      "model_name": "HBoxModel",
      "state": {
       "children": [
        "IPY_MODEL_1026a9c2019345abaa4d6e766eb1a6e3",
        "IPY_MODEL_e1264dad775c47209ec464e2ba9c7e55",
        "IPY_MODEL_777014a0b3694dfd94a42e3e89e4b672"
       ],
       "layout": "IPY_MODEL_f38aa1b714bb4ca49dd535606f0dbeb1"
      }
     },
     "b98c4cc2adaa4a969b60683c7b904a9d": {
      "model_module": "@jupyter-widgets/controls",
      "model_module_version": "2.0.0",
      "model_name": "HTMLStyleModel",
      "state": {
       "description_width": "",
       "font_size": null,
       "text_color": null
      }
     },
     "baabf4c26e9e416e86ecdd63bf83f0dc": {
      "model_module": "@jupyter-widgets/controls",
      "model_module_version": "2.0.0",
      "model_name": "HTMLStyleModel",
      "state": {
       "description_width": "",
       "font_size": null,
       "text_color": null
      }
     },
     "bb96269c84574f1a8d4dc561b55ba7c8": {
      "model_module": "@jupyter-widgets/base",
      "model_module_version": "2.0.0",
      "model_name": "LayoutModel",
      "state": {}
     },
     "bc10094a37cb4eac81fd3dd880add244": {
      "model_module": "@jupyter-widgets/controls",
      "model_module_version": "2.0.0",
      "model_name": "HTMLStyleModel",
      "state": {
       "description_width": "",
       "font_size": null,
       "text_color": null
      }
     },
     "bc9da54cc1f04b22a24bc79ccb22f641": {
      "model_module": "@jupyter-widgets/base",
      "model_module_version": "2.0.0",
      "model_name": "LayoutModel",
      "state": {}
     },
     "bca182cbe478462dada847c0cab3ddbc": {
      "model_module": "@jupyter-widgets/base",
      "model_module_version": "2.0.0",
      "model_name": "LayoutModel",
      "state": {}
     },
     "bcbb51927d8240548dd7c1576071a6b6": {
      "model_module": "@jupyter-widgets/base",
      "model_module_version": "2.0.0",
      "model_name": "LayoutModel",
      "state": {}
     },
     "bf6c4615af02416f894293a08cfe579b": {
      "model_module": "@jupyter-widgets/base",
      "model_module_version": "2.0.0",
      "model_name": "LayoutModel",
      "state": {}
     },
     "c2c307fdbd44477f8cea2f24d242fae0": {
      "model_module": "@jupyter-widgets/base",
      "model_module_version": "2.0.0",
      "model_name": "LayoutModel",
      "state": {}
     },
     "c33890e49fb345b98223d1015a54e4c6": {
      "model_module": "@jupyter-widgets/controls",
      "model_module_version": "2.0.0",
      "model_name": "HBoxModel",
      "state": {
       "children": [
        "IPY_MODEL_08295c4f985342afa8fb7d6461dd7386",
        "IPY_MODEL_16cd6979cc084467bea8c614a05d70fc",
        "IPY_MODEL_98485ae239af4722906beebf40dc1809"
       ],
       "layout": "IPY_MODEL_2bc36851c49b4423b4b620cdb40fd0b6"
      }
     },
     "c542dded99634b83822ef1f5630baa58": {
      "model_module": "@jupyter-widgets/base",
      "model_module_version": "2.0.0",
      "model_name": "LayoutModel",
      "state": {}
     },
     "c5fba6864cc74cccac68528d7e520f24": {
      "model_module": "@jupyter-widgets/controls",
      "model_module_version": "2.0.0",
      "model_name": "ProgressStyleModel",
      "state": {
       "description_width": ""
      }
     },
     "c6f7f74e52834a0eb2315ba676b94a64": {
      "model_module": "@jupyter-widgets/controls",
      "model_module_version": "2.0.0",
      "model_name": "HTMLModel",
      "state": {
       "layout": "IPY_MODEL_48ca8ae41b664c139ab470cbbb49b744",
       "style": "IPY_MODEL_12d6a74eb60a467582f0042e66b6d763",
       "value": " 190/190 [00:00&lt;00:00, 25.8kB/s]"
      }
     },
     "c80ba606f86341b688e2eb26c641b7ab": {
      "model_module": "@jupyter-widgets/controls",
      "model_module_version": "2.0.0",
      "model_name": "ProgressStyleModel",
      "state": {
       "description_width": ""
      }
     },
     "cac7d3f6647e4913bffc129258661402": {
      "model_module": "@jupyter-widgets/controls",
      "model_module_version": "2.0.0",
      "model_name": "HBoxModel",
      "state": {
       "children": [
        "IPY_MODEL_d11996f08e654b2d8a65d74744f15283",
        "IPY_MODEL_9366f592e4e54bd6b85edbc5d5ee06d3",
        "IPY_MODEL_55d741154bd746dfac47f2c511ba0195"
       ],
       "layout": "IPY_MODEL_40766844a8664678ab97a73fa8b069da"
      }
     },
     "cd7c7ff9d427403d808c6ca4ef60871d": {
      "model_module": "@jupyter-widgets/controls",
      "model_module_version": "2.0.0",
      "model_name": "ProgressStyleModel",
      "state": {
       "description_width": ""
      }
     },
     "d0155bb2006a4d8ea214487ef54cd0dd": {
      "model_module": "@jupyter-widgets/controls",
      "model_module_version": "2.0.0",
      "model_name": "HBoxModel",
      "state": {
       "children": [
        "IPY_MODEL_a59b0f5bee0745139ddb6920c426f1ec",
        "IPY_MODEL_af18ea3a452d436c86bf36a08950efb0",
        "IPY_MODEL_f71c29d7b13b4caab56ba2ac5b53fa2f"
       ],
       "layout": "IPY_MODEL_7a6bb43846e34ca783e455bc87f48939"
      }
     },
     "d0a31cd86da4438cbe96e33ec13047a9": {
      "model_module": "@jupyter-widgets/controls",
      "model_module_version": "2.0.0",
      "model_name": "ProgressStyleModel",
      "state": {
       "description_width": ""
      }
     },
     "d11996f08e654b2d8a65d74744f15283": {
      "model_module": "@jupyter-widgets/controls",
      "model_module_version": "2.0.0",
      "model_name": "HTMLModel",
      "state": {
       "layout": "IPY_MODEL_f893e9e0b66a496aa3848b6274d8ac13",
       "style": "IPY_MODEL_452e49dd4a2343e7a8bdabe6cae92af3",
       "value": "tokenizer.json: 100%"
      }
     },
     "d2219c3246dd4c2ab36ca40037d6656f": {
      "model_module": "@jupyter-widgets/base",
      "model_module_version": "2.0.0",
      "model_name": "LayoutModel",
      "state": {}
     },
     "d36aca62d6b94fe780237c081b129354": {
      "model_module": "@jupyter-widgets/base",
      "model_module_version": "2.0.0",
      "model_name": "LayoutModel",
      "state": {}
     },
     "d4e0db87bed045c295cb7a240f0d4342": {
      "model_module": "@jupyter-widgets/controls",
      "model_module_version": "2.0.0",
      "model_name": "ProgressStyleModel",
      "state": {
       "description_width": ""
      }
     },
     "d64cec84085e42d7be9fd8252aeaf4ff": {
      "model_module": "@jupyter-widgets/base",
      "model_module_version": "2.0.0",
      "model_name": "LayoutModel",
      "state": {}
     },
     "d6d22664b28f4d7b8f62a796eaf5ba60": {
      "model_module": "@jupyter-widgets/controls",
      "model_module_version": "2.0.0",
      "model_name": "ProgressStyleModel",
      "state": {
       "description_width": ""
      }
     },
     "da0cb4678eaa4b2e8d4c13d1d1c0d3b9": {
      "model_module": "@jupyter-widgets/controls",
      "model_module_version": "2.0.0",
      "model_name": "ProgressStyleModel",
      "state": {
       "description_width": ""
      }
     },
     "dadeca0f403349608ecfbe5c3728461e": {
      "model_module": "@jupyter-widgets/controls",
      "model_module_version": "2.0.0",
      "model_name": "FloatProgressModel",
      "state": {
       "bar_style": "success",
       "layout": "IPY_MODEL_458370f962554d09ab85a9d9ae33c9d6",
       "max": 190,
       "style": "IPY_MODEL_12658aaf4682499dbe48c86ee6c19d2a",
       "value": 190
      }
     },
     "dce4ee8b917d4139a905766b1b8ab6fe": {
      "model_module": "@jupyter-widgets/base",
      "model_module_version": "2.0.0",
      "model_name": "LayoutModel",
      "state": {}
     },
     "dcedf68383084609bf8660c11ec7bc0a": {
      "model_module": "@jupyter-widgets/base",
      "model_module_version": "2.0.0",
      "model_name": "LayoutModel",
      "state": {}
     },
     "de170ebcde3b43f4bda97d7651ee9c62": {
      "model_module": "@jupyter-widgets/controls",
      "model_module_version": "2.0.0",
      "model_name": "HTMLStyleModel",
      "state": {
       "description_width": "",
       "font_size": null,
       "text_color": null
      }
     },
     "ded5a50d65704bcdbe08cfbab16c47cc": {
      "model_module": "@jupyter-widgets/base",
      "model_module_version": "2.0.0",
      "model_name": "LayoutModel",
      "state": {}
     },
     "e0ef95093c7f4487a4d0c4bc7f53a202": {
      "model_module": "@jupyter-widgets/base",
      "model_module_version": "2.0.0",
      "model_name": "LayoutModel",
      "state": {}
     },
     "e1264dad775c47209ec464e2ba9c7e55": {
      "model_module": "@jupyter-widgets/controls",
      "model_module_version": "2.0.0",
      "model_name": "FloatProgressModel",
      "state": {
       "bar_style": "success",
       "layout": "IPY_MODEL_7102275184eb4684b11cef0d574363ec",
       "max": 932,
       "style": "IPY_MODEL_c80ba606f86341b688e2eb26c641b7ab",
       "value": 932
      }
     },
     "e1ea32d8e98f4904a0167f0524e29eb2": {
      "model_module": "@jupyter-widgets/base",
      "model_module_version": "2.0.0",
      "model_name": "LayoutModel",
      "state": {}
     },
     "e204bc988fd24fe5aa6480af4c8c2a8f": {
      "model_module": "@jupyter-widgets/controls",
      "model_module_version": "2.0.0",
      "model_name": "HTMLStyleModel",
      "state": {
       "description_width": "",
       "font_size": null,
       "text_color": null
      }
     },
     "e208d6afb43a4545beee721810ba653f": {
      "model_module": "@jupyter-widgets/controls",
      "model_module_version": "2.0.0",
      "model_name": "FloatProgressModel",
      "state": {
       "bar_style": "success",
       "layout": "IPY_MODEL_d36aca62d6b94fe780237c081b129354",
       "max": 26637,
       "style": "IPY_MODEL_aa559a4184c34a61a3f8e3bcafc27799",
       "value": 26637
      }
     },
     "e2ad09826d0a4d6493e9a26ea929cf16": {
      "model_module": "@jupyter-widgets/controls",
      "model_module_version": "2.0.0",
      "model_name": "HTMLModel",
      "state": {
       "layout": "IPY_MODEL_7b5be7b2677549d6848bd7c9a0d280f2",
       "style": "IPY_MODEL_4db17eecfa4b443991097218aee743fa",
       "value": " 409M/409M [00:00&lt;00:00, 646MB/s]"
      }
     },
     "e4479e0d52864724bd4a0401aecbccf3": {
      "model_module": "@jupyter-widgets/base",
      "model_module_version": "2.0.0",
      "model_name": "LayoutModel",
      "state": {}
     },
     "e496596447df4d5fb59bfe5e719169e4": {
      "model_module": "@jupyter-widgets/controls",
      "model_module_version": "2.0.0",
      "model_name": "HTMLStyleModel",
      "state": {
       "description_width": "",
       "font_size": null,
       "text_color": null
      }
     },
     "e4a81fda2ba84d2782343755ca967137": {
      "model_module": "@jupyter-widgets/controls",
      "model_module_version": "2.0.0",
      "model_name": "FloatProgressModel",
      "state": {
       "bar_style": "success",
       "layout": "IPY_MODEL_2731f66022f742bc813e33858697f02e",
       "max": 409097104,
       "style": "IPY_MODEL_0f8f7d1ee74342cfbcd2716ba6baddd3",
       "value": 409097104
      }
     },
     "e7e46ffc458d462ab92567d4ff95a82f": {
      "model_module": "@jupyter-widgets/controls",
      "model_module_version": "2.0.0",
      "model_name": "HTMLStyleModel",
      "state": {
       "description_width": "",
       "font_size": null,
       "text_color": null
      }
     },
     "e8b2c270a3024ec9aeeb2012d2ad2ab6": {
      "model_module": "@jupyter-widgets/controls",
      "model_module_version": "2.0.0",
      "model_name": "ProgressStyleModel",
      "state": {
       "description_width": ""
      }
     },
     "e98b5e9c883747c3adf8f49caccb4936": {
      "model_module": "@jupyter-widgets/controls",
      "model_module_version": "2.0.0",
      "model_name": "ProgressStyleModel",
      "state": {
       "description_width": ""
      }
     },
     "eb008e92ea664c8087a4d2e7507f09a1": {
      "model_module": "@jupyter-widgets/controls",
      "model_module_version": "2.0.0",
      "model_name": "HTMLStyleModel",
      "state": {
       "description_width": "",
       "font_size": null,
       "text_color": null
      }
     },
     "ef28f5b7f3f041af94d64c3f62ce2f2c": {
      "model_module": "@jupyter-widgets/controls",
      "model_module_version": "2.0.0",
      "model_name": "HBoxModel",
      "state": {
       "children": [
        "IPY_MODEL_03b7982d8c1a44a2866cd66ba68e3d05",
        "IPY_MODEL_e208d6afb43a4545beee721810ba653f",
        "IPY_MODEL_6866ff5af86349109ea71950f668085e"
       ],
       "layout": "IPY_MODEL_c542dded99634b83822ef1f5630baa58"
      }
     },
     "ef839c62eb9b49839c2d8a1c6d108f36": {
      "model_module": "@jupyter-widgets/base",
      "model_module_version": "2.0.0",
      "model_name": "LayoutModel",
      "state": {}
     },
     "f139958689034021b31ecc5c52363c68": {
      "model_module": "@jupyter-widgets/controls",
      "model_module_version": "2.0.0",
      "model_name": "HTMLModel",
      "state": {
       "layout": "IPY_MODEL_42c210e7929943438a3715b769b93875",
       "style": "IPY_MODEL_38e286e4f7074498a04c85f7ae799845",
       "value": "tokenizer.json: 100%"
      }
     },
     "f1e1ada0cbbb441f8868889561add4d6": {
      "model_module": "@jupyter-widgets/base",
      "model_module_version": "2.0.0",
      "model_name": "LayoutModel",
      "state": {}
     },
     "f2798a3d3f064ce682380d045d812865": {
      "model_module": "@jupyter-widgets/controls",
      "model_module_version": "2.0.0",
      "model_name": "HTMLStyleModel",
      "state": {
       "description_width": "",
       "font_size": null,
       "text_color": null
      }
     },
     "f38aa1b714bb4ca49dd535606f0dbeb1": {
      "model_module": "@jupyter-widgets/base",
      "model_module_version": "2.0.0",
      "model_name": "LayoutModel",
      "state": {}
     },
     "f3f6614a7c564987ae7b1987ea564499": {
      "model_module": "@jupyter-widgets/controls",
      "model_module_version": "2.0.0",
      "model_name": "HTMLModel",
      "state": {
       "layout": "IPY_MODEL_1b7a85b6441647df92317d8ea10c02db",
       "style": "IPY_MODEL_88e1606575a84f84b273a202859d97ea",
       "value": "1_Pooling/config.json: 100%"
      }
     },
     "f40927455fb54888b9015f42f6cad2f4": {
      "model_module": "@jupyter-widgets/controls",
      "model_module_version": "2.0.0",
      "model_name": "ProgressStyleModel",
      "state": {
       "description_width": ""
      }
     },
     "f476124b5f434db6b4d9c9ad7b4aa712": {
      "model_module": "@jupyter-widgets/controls",
      "model_module_version": "2.0.0",
      "model_name": "HTMLStyleModel",
      "state": {
       "description_width": "",
       "font_size": null,
       "text_color": null
      }
     },
     "f5e1b1673fbe4f668bac7ec378a52cc8": {
      "model_module": "@jupyter-widgets/controls",
      "model_module_version": "2.0.0",
      "model_name": "HBoxModel",
      "state": {
       "children": [
        "IPY_MODEL_6c4de2a509184e2c9d2d344d0ac17528",
        "IPY_MODEL_dadeca0f403349608ecfbe5c3728461e",
        "IPY_MODEL_c6f7f74e52834a0eb2315ba676b94a64"
       ],
       "layout": "IPY_MODEL_2af25593525c410e8afd5c144376b089"
      }
     },
     "f6e0ee53dd8943adb6670401245e3015": {
      "model_module": "@jupyter-widgets/base",
      "model_module_version": "2.0.0",
      "model_name": "LayoutModel",
      "state": {}
     },
     "f71c29d7b13b4caab56ba2ac5b53fa2f": {
      "model_module": "@jupyter-widgets/controls",
      "model_module_version": "2.0.0",
      "model_name": "HTMLModel",
      "state": {
       "layout": "IPY_MODEL_d64cec84085e42d7be9fd8252aeaf4ff",
       "style": "IPY_MODEL_00502f892e1f438288694f32b4740dfa",
       "value": " 110k/110k [00:00&lt;00:00, 12.9MB/s]"
      }
     },
     "f74955c8a9a4478495959ef6c97aca3b": {
      "model_module": "@jupyter-widgets/controls",
      "model_module_version": "2.0.0",
      "model_name": "HBoxModel",
      "state": {
       "children": [
        "IPY_MODEL_6c561b371d504146a512edf9c544e763",
        "IPY_MODEL_58f16f8095cf423e9de9c2584f449807",
        "IPY_MODEL_21e607754de9452a8d1bdfb2392bc641"
       ],
       "layout": "IPY_MODEL_bcbb51927d8240548dd7c1576071a6b6"
      }
     },
     "f77a515ea6914080bbf9215491006c46": {
      "model_module": "@jupyter-widgets/base",
      "model_module_version": "2.0.0",
      "model_name": "LayoutModel",
      "state": {}
     },
     "f893e9e0b66a496aa3848b6274d8ac13": {
      "model_module": "@jupyter-widgets/base",
      "model_module_version": "2.0.0",
      "model_name": "LayoutModel",
      "state": {}
     },
     "f8ab5202866e4ada8af4e97f9feabd5d": {
      "model_module": "@jupyter-widgets/controls",
      "model_module_version": "2.0.0",
      "model_name": "HTMLStyleModel",
      "state": {
       "description_width": "",
       "font_size": null,
       "text_color": null
      }
     },
     "fac379f4961c4120b6c5ba11454f2333": {
      "model_module": "@jupyter-widgets/controls",
      "model_module_version": "2.0.0",
      "model_name": "HBoxModel",
      "state": {
       "children": [
        "IPY_MODEL_742a25829f984316b71ff49b9c2a742c",
        "IPY_MODEL_31072809cfe44ce39e863e5d5854573d",
        "IPY_MODEL_25a8047592b644e6aafdb111190e291d"
       ],
       "layout": "IPY_MODEL_496519a8d39b49d89eeab30c24c30d0f"
      }
     },
     "fb7b299fd41641dab508662f238d2dea": {
      "model_module": "@jupyter-widgets/base",
      "model_module_version": "2.0.0",
      "model_name": "LayoutModel",
      "state": {}
     },
     "fd6b788b5b3247cda4985cb1d02b2533": {
      "model_module": "@jupyter-widgets/controls",
      "model_module_version": "2.0.0",
      "model_name": "HBoxModel",
      "state": {
       "children": [
        "IPY_MODEL_55cc3a7c6ccf4bbcb5e7cc1952c5c4ab",
        "IPY_MODEL_e4a81fda2ba84d2782343755ca967137",
        "IPY_MODEL_26623a5acc964d649147bec4399b204c"
       ],
       "layout": "IPY_MODEL_8acfaa871ffd46a6a6837357d99be12d"
      }
     }
    },
    "version_major": 2,
    "version_minor": 0
   }
  }
 },
 "nbformat": 4,
 "nbformat_minor": 5
}
