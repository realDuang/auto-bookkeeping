{
 "cells": [
  {
   "cell_type": "code",
   "execution_count": null,
   "id": "d8edfed1-c7e7-4d57-b3f2-8ef93b46339c",
   "metadata": {},
   "outputs": [],
   "source": [
    "import matplotlib.pyplot as plt\n",
    "import numpy as np\n",
    "import pandas as pd\n",
    "\n",
    "plt.rcParams['font.sans-serif'] = ['SimHei']\n",
    "plt.rcParams['font.family'] = 'Microsoft YaHei'\n",
    "plt.rcParams['axes.unicode_minus'] = False\n",
    "\n",
    "df_bookkeep = pd.read_csv(\"../data-source/201807-202207.csv\")\n",
    "df_bookkeep['交易时间'] = pd.to_datetime(df_bookkeep['交易时间'], format='%Y/%m/%d %H:%M:%S')\n",
    "df_bookkeep['金额(元)'] = pd.to_numeric(df_bookkeep['金额(元)'])\n",
    "\n",
    "df_bookkeep['月度'] = df_bookkeep['交易时间'].dt.strftime('%Y-%m')\n",
    "\n",
    "def process_amount(row):\n",
    "    amount = row['金额(元)']\n",
    "    if row['收/支'] == '收入':\n",
    "        return amount\n",
    "    else:\n",
    "        return -amount\n",
    "\n",
    "df_bookkeep['开销'] = df_bookkeep.apply(process_amount, axis=1)\n",
    "\n",
    "df_bookkeep.head()\n"
   ]
  },
  {
   "cell_type": "code",
   "execution_count": null,
   "id": "8e870804-d7c6-46e5-a3ae-2a69a37bac03",
   "metadata": {},
   "outputs": [],
   "source": [
    "table_payment = pd.pivot_table(df_bookkeep, index='月度', columns='类型', values='开销', aggfunc='sum')\n",
    "table_payment.fillna(0, inplace=True)"
   ]
  },
  {
   "cell_type": "code",
   "execution_count": null,
   "id": "148d6359-1315-4981-b2d5-2a55e3fcb22d",
   "metadata": {},
   "outputs": [],
   "source": [
    "table_payment[\"月结余\"] = table_payment.sum(axis=1)\n",
    "table_payment[\"月支出\"] = table_payment[\"月结余\"] - table_payment['工资'] - table_payment['交易']\n",
    "\n",
    "table_payment"
   ]
  },
  {
   "cell_type": "code",
   "execution_count": null,
   "id": "028f2005-4e22-4cd5-82f8-db99104a4e6d",
   "metadata": {},
   "outputs": [],
   "source": [
    "# 定义应用于总支出列的样式函数\n",
    "def color_render(val):\n",
    "    colors = np.where(val >= -5000, 'color: green', np.where(val <= -7000, 'color: red', ''))\n",
    "    return colors\n",
    "\n",
    "table_styled = table_payment.style.apply(color_render, subset=[\"月支出\"])"
   ]
  },
  {
   "cell_type": "code",
   "execution_count": null,
   "id": "eb029bf8",
   "metadata": {},
   "outputs": [],
   "source": [
    "plt.figure(figsize=(20, 10))\n",
    "type_result = -(table_payment.drop([\"工资\",\"月结余\", \"月支出\", \"交易\"], axis=1).sum(axis=0))\n",
    "\n",
    "type_result.plot(kind=\"bar\")"
   ]
  },
  {
   "cell_type": "code",
   "execution_count": null,
   "id": "cd7655b3-861f-4bc9-ad79-c4ffa248346b",
   "metadata": {},
   "outputs": [],
   "source": [
    "plt.figure(figsize=(30, 10))\n",
    "monthly_result = abs(table_payment[\"月支出\"])\n",
    "\n",
    "monthly_result.plot(kind=\"line\")"
   ]
  }
 ],
 "metadata": {
  "kernelspec": {
   "display_name": "Python 3 (ipykernel)",
   "language": "python",
   "name": "python3"
  },
  "language_info": {
   "codemirror_mode": {
    "name": "ipython",
    "version": 3
   },
   "file_extension": ".py",
   "mimetype": "text/x-python",
   "name": "python",
   "nbconvert_exporter": "python",
   "pygments_lexer": "ipython3",
   "version": "3.9.12"
  }
 },
 "nbformat": 4,
 "nbformat_minor": 5
}
