{
 "cells": [
  {
   "cell_type": "code",
   "execution_count": 3,
   "metadata": {},
   "outputs": [
    {
     "name": "stdout",
     "output_type": "stream",
     "text": [
      "找到的微信账单文件: []\n",
      "找到的支付宝账单文件: ['/Users/duang/workspace/auto-bookkeeping/src/../data/source/alipay_record.csv']\n"
     ]
    }
   ],
   "source": [
    "import os\n",
    "import json\n",
    "import glob\n",
    "\n",
    "repo_path = os.path.join(os.path.dirname(os.path.abspath('')), '..')\n",
    "config_path = os.path.join(repo_path, 'config', 'settings.json')\n",
    "with open(config_path, 'r', encoding='utf-8') as f:\n",
    "    config = json.load(f)\n",
    "\n",
    "output_path = config.get('output', {}).get('path')\n",
    "merged_bill_path = os.path.join(repo_path, output_path, config.get('output', {}).get('merged_filename'))\n",
    "\n",
    "# 获取数据源目录中的所有CSV文件\n",
    "data_source_path =  config.get('datasource', {}).get('path')\n",
    "all_csv_files = glob.glob(os.path.join(repo_path, data_source_path, \"*.csv\"))\n",
    "\n",
    "# 根据文件名特征分类\n",
    "wechat_bill_files = [f for f in all_csv_files if '微信支付' in os.path.basename(f)]\n",
    "alipay_bill_files = [f for f in all_csv_files if 'alipay' in os.path.basename(f).lower()]\n",
    "\n",
    "print(f\"找到的微信账单文件: {wechat_bill_files}\")\n",
    "print(f\"找到的支付宝账单文件: {alipay_bill_files}\")"
   ]
  },
  {
   "cell_type": "markdown",
   "metadata": {},
   "source": [
    "### 序列化并整理不同来源的账单，合并为一个规范化的账单"
   ]
  },
  {
   "cell_type": "code",
   "execution_count": 4,
   "metadata": {},
   "outputs": [
    {
     "name": "stdout",
     "output_type": "stream",
     "text": [
      "合并后的账单共有 67 条记录\n",
      "已将合并后的账单保存至: /Users/duang/workspace/auto-bookkeeping/src/../out/merged_data.csv\n"
     ]
    }
   ],
   "source": [
    "import os\n",
    "from utils.formatter.format_and_merge_bills import format_and_merge_bills\n",
    "\n",
    "merged_bill_df = format_and_merge_bills(wechat_bill_files, alipay_bill_files)\n",
    "\n",
    "if not merged_bill_df.empty:\n",
    "    os.makedirs(os.path.dirname(merged_bill_path), exist_ok=True)\n",
    "    print(f\"合并后的账单共有 {len(merged_bill_df)} 条记录\")\n",
    "\n",
    "    merged_bill_df.to_csv(merged_bill_path, index=False, encoding='utf-8-sig')\n",
    "    print(f\"已将合并后的账单保存至: {merged_bill_path}\")"
   ]
  }
 ],
 "metadata": {
  "kernelspec": {
   "display_name": "base",
   "language": "python",
   "name": "python3"
  },
  "language_info": {
   "codemirror_mode": {
    "name": "ipython",
    "version": 3
   },
   "file_extension": ".py",
   "mimetype": "text/x-python",
   "name": "python",
   "nbconvert_exporter": "python",
   "pygments_lexer": "ipython3",
   "version": "3.11.4"
  },
  "orig_nbformat": 4
 },
 "nbformat": 4,
 "nbformat_minor": 2
}
