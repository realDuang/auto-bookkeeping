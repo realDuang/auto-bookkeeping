{
 "cells": [
  {
   "cell_type": "code",
   "execution_count": null,
   "metadata": {},
   "outputs": [],
   "source": [
    "import os\n",
    "import json\n",
    "\n",
    "repo_path = os.path.join(os.path.dirname(os.path.abspath('')), '..')\n",
    "config_path = os.path.join(repo_path, 'config', 'settings.json')\n",
    "with open(config_path, 'r', encoding='utf-8') as f:\n",
    "    config = json.load(f)\n",
    "\n",
    "output_path = config.get('output', {}).get('path')\n",
    "data_source_path =  config.get('datasource', {}).get('path')\n",
    "\n",
    "wechat_bill_path = os.path.join(repo_path, data_source_path, config.get('datasource', {}).get(\"wechatpay_filemame\"))\n",
    "alipay_bill_path = os.path.join(repo_path, data_source_path, config.get('datasource', {}).get(\"alipay_filename\"))\n",
    "merged_bill_path = os.path.join(repo_path, output_path, config.get('output', {}).get('merged_filename'))"
   ]
  },
  {
   "cell_type": "markdown",
   "metadata": {},
   "source": [
    "### 序列化并整理不同来源的账单，合并为一个规范化的账单"
   ]
  },
  {
   "cell_type": "code",
   "execution_count": null,
   "metadata": {},
   "outputs": [],
   "source": [
    "import sys\n",
    "import os\n",
    "import pandas as pd\n",
    "\n",
    "sys.path.append(os.path.join(os.path.dirname(os.path.abspath('')), 'utils'))\n",
    "from utils.alipay_formatter import alipay_format\n",
    "from utils.wechat_formatter import wechat_format\n",
    "\n",
    "wechat_bill_df = pd.DataFrame()\n",
    "if wechat_bill_path != \"\" and os.path.exists(wechat_bill_path):\n",
    "    wechat_bill_df = wechat_format(wechat_bill_path)\n",
    "    print(f\"已完成微信账单格式化: {wechat_bill_path}\")\n",
    "\n",
    "alipay_bill_df = pd.DataFrame()\n",
    "if alipay_bill_path != \"\" and os.path.exists(alipay_bill_path):\n",
    "    alipay_bill_df = alipay_format(alipay_bill_path)\n",
    "    print(f\"已完成支付宝账单格式化: {alipay_bill_path}\")\n"
   ]
  },
  {
   "cell_type": "code",
   "execution_count": null,
   "metadata": {},
   "outputs": [],
   "source": [
    "# 按时间顺序合并账单\n",
    "merged_bill_df = pd.concat([alipay_bill_df, wechat_bill_df], sort=True).sort_values(by='交易时间', ascending=True)\n",
    "\n",
    "# 整理列顺序\n",
    "column_order = ['交易时间', '类型', '金额(元)', '收/支', '支付方式', '交易对方', '商品名称', '备注']\n",
    "merged_bill_df = merged_bill_df.reindex(columns=column_order)\n",
    "\n",
    "# 过滤掉不计入收支的记录\n",
    "merged_bill_df = merged_bill_df[merged_bill_df['收/支'] != '/']\n",
    "\n",
    "merged_bill_df.to_csv(merged_bill_path, encoding='utf-8', index=False)\n"
   ]
  }
 ],
 "metadata": {
  "kernelspec": {
   "display_name": "Python 3",
   "language": "python",
   "name": "python3"
  },
  "language_info": {
   "codemirror_mode": {
    "name": "ipython",
    "version": 3
   },
   "file_extension": ".py",
   "mimetype": "text/x-python",
   "name": "python",
   "nbconvert_exporter": "python",
   "pygments_lexer": "ipython3",
   "version": "3.12.1"
  },
  "orig_nbformat": 4
 },
 "nbformat": 4,
 "nbformat_minor": 2
}
