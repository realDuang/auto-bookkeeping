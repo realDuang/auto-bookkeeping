{
 "cells": [
  {
   "cell_type": "code",
   "execution_count": null,
   "metadata": {},
   "outputs": [],
   "source": [
    "import numpy as np\n",
    "import pandas as pd\n",
    "\n",
    "df_learning = pd.read_csv(\"../data-source/202208-202301.csv\")\n",
    "# df_learning = pd.read_csv(\"../data-source/201807-202207.csv\")"
   ]
  },
  {
   "cell_type": "code",
   "execution_count": null,
   "metadata": {},
   "outputs": [],
   "source": [
    "import jieba\n",
    "\n",
    "def cutReview(x): return ' '.join(jieba.lcut(str(x), cut_all=False))\n",
    "\n",
    "df_learning.loc[:, '类型'] = df_learning['类型'].fillna(\n",
    "    '')\n",
    "# df_learning.loc[:, '交易对方'] = df_learning['交易对方'].fillna(\n",
    "#     '').apply(cutReview)\n",
    "# df_learning.loc[:, '商品名称'] = df_learning['商品名称'].fillna(\n",
    "#     '').apply(cutReview)\n",
    "\n",
    "df_learning.loc[:, '交易对方'] = df_learning['交易对方'].fillna(\n",
    "    '')\n",
    "df_learning.loc[:, '商品名称'] = df_learning['商品名称'].fillna(\n",
    "    '')\n"
   ]
  },
  {
   "attachments": {},
   "cell_type": "markdown",
   "metadata": {},
   "source": [
    "# 模型训练"
   ]
  },
  {
   "cell_type": "code",
   "execution_count": null,
   "metadata": {},
   "outputs": [],
   "source": [
    "from sklearn.feature_extraction.text import CountVectorizer\n",
    "from sklearn.decomposition import PCA\n",
    "from scipy.sparse import hstack\n",
    "\n",
    "# 去除词频小于2的词\n",
    "countvec = CountVectorizer(min_df=2)\n",
    "\n",
    "# 构建特征向量\n",
    "product_vector = countvec.fit_transform(df_learning['商品名称'])\n",
    "saler_vector = countvec.fit_transform(df_learning['交易对方'])\n",
    "\n",
    "# 合并特征向量\n",
    "feature_vector = hstack((product_vector, saler_vector))\n",
    "\n",
    "# 特征降维\n",
    "pca = PCA(n_components=50)\n",
    "feature_vector_pca = pca.fit_transform(feature_vector.toarray())"
   ]
  },
  {
   "cell_type": "code",
   "execution_count": null,
   "metadata": {},
   "outputs": [],
   "source": [
    "from sklearn.model_selection import train_test_split\n",
    "from sklearn.svm import SVC\n",
    "from sklearn.metrics import accuracy_score\n",
    "\n",
    "# 按照 7:3 划分训练集和测试集\n",
    "x_train, x_test, y_train, y_test = train_test_split(\n",
    "    feature_vector_pca, df_learning['类型'], test_size=0.3)\n",
    "\n",
    "svm_model = SVC(kernel='rbf', probability=True, random_state=1)\n",
    "svm_model.fit(x_train, y_train)\n",
    "\n",
    "y_predict = svm_model.predict(x_test)\n",
    "\n",
    "# 计算准确度\n",
    "acc = accuracy_score(y_test, y_predict)\n",
    "print(\"训练模型准确率为：{:.2f}%\".format(acc * 100))\n"
   ]
  },
  {
   "attachments": {},
   "cell_type": "markdown",
   "metadata": {},
   "source": [
    "# 预测集填入"
   ]
  },
  {
   "cell_type": "code",
   "execution_count": null,
   "metadata": {},
   "outputs": [],
   "source": [
    "df_new = pd.read_csv(\"../out/merged.csv\")\n",
    "\n",
    "df_predict = df_new.copy()\n",
    "\n",
    "def cutReview(x): return ' '.join(jieba.lcut(str(x), cut_all=False))\n",
    "\n",
    "# df_predict.loc[:, '交易对方'] = df_predict['交易对方'].fillna(\n",
    "#     '').apply(cutReview)\n",
    "# df_predict.loc[:, '商品名称'] = df_predict['商品名称'].fillna(\n",
    "#     '').apply(cutReview)\n",
    "\n",
    "df_predict"
   ]
  },
  {
   "cell_type": "code",
   "execution_count": null,
   "metadata": {},
   "outputs": [],
   "source": [
    "# 去除词频小于2的词\n",
    "countvec = CountVectorizer(min_df=2)\n",
    "\n",
    "# 构建特征向量\n",
    "product_vector = countvec.fit_transform(df_predict['商品名称'])\n",
    "saler_vector = countvec.fit_transform(df_predict['交易对方'])\n",
    "\n",
    "# 合并特征向量\n",
    "feature_vector = hstack((product_vector, saler_vector))\n",
    "\n",
    "# 特征降维\n",
    "pca = PCA(n_components=50)\n",
    "feature_vector_pca = pca.fit_transform(feature_vector.toarray())"
   ]
  },
  {
   "attachments": {},
   "cell_type": "markdown",
   "metadata": {},
   "source": [
    "# 结果预测"
   ]
  },
  {
   "cell_type": "code",
   "execution_count": null,
   "metadata": {},
   "outputs": [],
   "source": [
    "confidence_threshold = 0.6\n",
    "\n",
    "y_predict = svm_model.predict(feature_vector_pca)\n",
    "confidence_scores = svm_model.predict_proba(feature_vector_pca)\n",
    "\n",
    "# 根据阈值过滤不可信的结果\n",
    "for i in range(len(y_predict)):\n",
    "    if np.max(confidence_scores[i]) < confidence_threshold:\n",
    "        y_predict[i] = ''\n",
    "\n",
    "df_new['类型'] = y_predict\n",
    "\n",
    "df_new\n"
   ]
  },
  {
   "cell_type": "code",
   "execution_count": null,
   "metadata": {},
   "outputs": [],
   "source": [
    "df_new.to_csv(\"../out/predict_result.csv\", index=False, header=True, encoding='utf-8')"
   ]
  }
 ],
 "metadata": {
  "kernelspec": {
   "display_name": "base",
   "language": "python",
   "name": "python3"
  },
  "language_info": {
   "codemirror_mode": {
    "name": "ipython",
    "version": 3
   },
   "file_extension": ".py",
   "mimetype": "text/x-python",
   "name": "python",
   "nbconvert_exporter": "python",
   "pygments_lexer": "ipython3",
   "version": "3.9.12"
  },
  "orig_nbformat": 4
 },
 "nbformat": 4,
 "nbformat_minor": 2
}
