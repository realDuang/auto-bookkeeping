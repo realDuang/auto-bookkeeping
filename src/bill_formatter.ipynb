{
 "cells": [
  {
   "cell_type": "code",
   "execution_count": 21,
   "metadata": {},
   "outputs": [],
   "source": [
    "import sys\n",
    "\n",
    "sys.path.append('lib')\n",
    "\n",
    "from alipay_formatter import alipay_format\n",
    "from wechat_formatter import wechat_format"
   ]
  },
  {
   "cell_type": "code",
   "execution_count": 22,
   "metadata": {},
   "outputs": [],
   "source": [
    "import pandas as pd\n",
    "\n",
    "alipay_bill_df = alipay_format(\"../data-source/origin-data/alipay_record_20230704.csv\")\n",
    "wechat_bill_df = wechat_format(\"../data-source/origin-data/wechat_bill.csv\")\n",
    "\n",
    "merged_bill_df = pd.concat([alipay_bill_df, wechat_bill_df], sort=True).sort_values(by='交易时间')\n",
    "\n",
    "# 去除无意义的记录\n",
    "merged_bill_df = merged_bill_df[merged_bill_df['收/支'] != '/']\n",
    "\n",
    "print(merged_bill_df)\n",
    "\n",
    "merged_bill_df.to_csv(\"../out/merged.csv\", encoding='utf-8', index=False)\n"
   ]
  }
 ],
 "metadata": {
  "kernelspec": {
   "display_name": "base",
   "language": "python",
   "name": "python3"
  },
  "language_info": {
   "codemirror_mode": {
    "name": "ipython",
    "version": 3
   },
   "file_extension": ".py",
   "mimetype": "text/x-python",
   "name": "python",
   "nbconvert_exporter": "python",
   "pygments_lexer": "ipython3",
   "version": "3.9.12"
  },
  "orig_nbformat": 4
 },
 "nbformat": 4,
 "nbformat_minor": 2
}
